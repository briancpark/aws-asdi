{
 "cells": [
  {
   "cell_type": "markdown",
   "id": "cd2fccdb",
   "metadata": {},
   "source": [
    "# AWS-ASDI\n",
    "EDA on the NOAA Global Historical Climatology Network Daily Dataset. This dataset contains over 200 years worth of climate data, and we will analyze the dataset through the use of data science tools that are scalable (modin and NumS). Because the tools we use are scalable, we are able to run the same code on a laptop and cluster of nodes. Before getting started, make sure you set `num_cpus` in `ray_init()` to the number of physical cores on the CPU running this notebook for optimal performance, otherwise Ray might automatically set it to logical cores that include hyperthreading.\n",
    "\n",
    "Confirm everything is installed through:\n",
    "```sh\n",
    "pip3 install -r requirements\n",
    "```"
   ]
  },
  {
   "cell_type": "code",
   "execution_count": 1,
   "id": "f76c32f7",
   "metadata": {
    "scrolled": true
   },
   "outputs": [
    {
     "name": "stderr",
     "output_type": "stream",
     "text": [
      "2021-07-19 16:16:52,510\tINFO services.py:1274 -- View the Ray dashboard at \u001b[1m\u001b[32mhttp://127.0.0.1:8265\u001b[39m\u001b[22m\n"
     ]
    }
   ],
   "source": [
    "import ray\n",
    "ray.init(ignore_reinit_error=True, num_cpus=32, _temp_dir=\"/home/brian/external/aws-asdi/ray_temp\");\n",
    "import modin.pandas as pd\n",
    "import pandas\n",
    "from nums import numpy as nps\n",
    "import numpy as np\n",
    "import matplotlib.pyplot as plt\n",
    "from tqdm.auto import tqdm\n",
    "import os"
   ]
  },
  {
   "cell_type": "markdown",
   "id": "8e5f085a",
   "metadata": {},
   "source": [
    "## Downloading the data and organization\n",
    "https://registry.opendata.aws/noaa-ghcn/\n",
    "\n",
    "Can use AWS CLI to speed things up by downloading it locally.\n",
    "\n",
    "To view files:\n",
    "```sh\n",
    "aws s3 ls s3://noaa-ghcn-pds/ --no-sign-request\n",
    "```\n",
    "\n",
    "To download locally (*about 100GB of free data is needed on disk*):\n",
    "To view files:\n",
    "```sh\n",
    "mkdir data\n",
    "aws s3 cp --recursive s3://noaa-ghcn-pds/ --no-sign-request data\n",
    "```\n",
    "\n",
    "If downloading will take too much storage space, we can run this notebook completely off of memory, by setting the `local` tag to `False` in some function arguments.\n",
    "\n",
    "File directory should look like this:\n",
    "```\n",
    "├── data/\n",
    "├── figures/\n",
    "├── eda.ipynb\n",
    "├── README.md\n",
    "└── requirements.txt\n",
    "```\n",
    "\n",
    "Documentation is here: https://docs.opendata.aws/noaa-ghcn-pds/readme.html"
   ]
  },
  {
   "cell_type": "markdown",
   "id": "e8980a19",
   "metadata": {},
   "source": [
    "Here, we test downloading a `.csv` file directly from the AWS s3 bucket to memory."
   ]
  },
  {
   "cell_type": "code",
   "execution_count": 2,
   "id": "d8634708",
   "metadata": {},
   "outputs": [
    {
     "name": "stdout",
     "output_type": "stream",
     "text": [
      "CPU times: user 10.5 s, sys: 2.78 s, total: 13.2 s\n",
      "Wall time: 1min 13s\n"
     ]
    }
   ],
   "source": [
    "%%time\n",
    "### Getting started\n",
    "climate_2020 = pd.read_csv('s3://noaa-ghcn-pds/csv/2020.csv', header=None)\n",
    "climate_2020.columns = [\"ID\", \"YEAR/MONTH/DAY\", \"ELEMENT\", \"DATA VALUE\", \"M-FLAG\", \"Q-FLAG\", \"S-FLAG\", \"OBS-TIME\"]\n",
    "climate_2020[\"YEAR/MONTH/DAY\"] = pd.to_datetime(climate_2020[\"YEAR/MONTH/DAY\"], format=\"%Y%m%d\")"
   ]
  },
  {
   "cell_type": "markdown",
   "id": "49bcd926",
   "metadata": {},
   "source": [
    "## Global Variables and DataFrames\n",
    "Some variables and DataFrames that will be useful in parsing out data."
   ]
  },
  {
   "cell_type": "code",
   "execution_count": 3,
   "id": "9b30f8bc",
   "metadata": {},
   "outputs": [],
   "source": [
    "# Global variables\n",
    "elements = [\"PRCP\", \"SNOW\", \"SNWD\", \"TMAX\", \"TMIN\"]\n",
    "years = list(range(1763, 2022))"
   ]
  },
  {
   "cell_type": "markdown",
   "id": "b7a9982d",
   "metadata": {},
   "source": [
    "For stations, the data is formatted like this:\n",
    "```\n",
    "Variable\tColumns\tType\tExample\n",
    "ID\t1-11\tCharacter\tEI000003980\n",
    "LATITUDE\t13-20\tReal\t55.3717\n",
    "LONGITUDE\t22-30\tReal\t-7.3400\n",
    "ELEVATION\t32-37\tReal\t21.0\n",
    "STATE\t39-40\tCharacter\n",
    "NAME\t42-71\tCharacter\tMALIN HEAD\n",
    "GSN FLAG\t73-75\tCharacter\tGSN\n",
    "HCN/CRN FLAG\t77-79\tCharacter\n",
    "WMO ID\t81-85\tCharacter\t03980\n",
    "```\n",
    "\n",
    "A sample query:\n",
    "```\n",
    "AE000041196  25.3330   55.5170   34.0    SHARJAH INTER. AIRP            GSN     41196\n",
    "```"
   ]
  },
  {
   "cell_type": "code",
   "execution_count": 4,
   "id": "60fdb13d",
   "metadata": {},
   "outputs": [
    {
     "name": "stderr",
     "output_type": "stream",
     "text": [
      "UserWarning: File has mismatched quotes\n"
     ]
    },
    {
     "data": {
      "text/html": [
       "<div>\n",
       "<style scoped>\n",
       "    .dataframe tbody tr th:only-of-type {\n",
       "        vertical-align: middle;\n",
       "    }\n",
       "\n",
       "    .dataframe tbody tr th {\n",
       "        vertical-align: top;\n",
       "    }\n",
       "\n",
       "    .dataframe thead th {\n",
       "        text-align: right;\n",
       "    }\n",
       "</style>\n",
       "<table border=\"1\" class=\"dataframe\">\n",
       "  <thead>\n",
       "    <tr style=\"text-align: right;\">\n",
       "      <th></th>\n",
       "      <th>ID</th>\n",
       "      <th>LATITUDE</th>\n",
       "      <th>LONGITUDE</th>\n",
       "      <th>ELEVATION</th>\n",
       "      <th>STATE</th>\n",
       "      <th>NAME</th>\n",
       "      <th>GSN FLAG</th>\n",
       "      <th>HCN/CRN FLAG</th>\n",
       "      <th>WMO ID</th>\n",
       "    </tr>\n",
       "  </thead>\n",
       "  <tbody>\n",
       "    <tr>\n",
       "      <th>0</th>\n",
       "      <td>ACW00011604</td>\n",
       "      <td>17.1167</td>\n",
       "      <td>-61.7833</td>\n",
       "      <td>10.1</td>\n",
       "      <td>NaN</td>\n",
       "      <td>ST JOHNS COOLIDGE FLD</td>\n",
       "      <td>NaN</td>\n",
       "      <td>NaN</td>\n",
       "      <td>NaN</td>\n",
       "    </tr>\n",
       "    <tr>\n",
       "      <th>1</th>\n",
       "      <td>ACW00011647</td>\n",
       "      <td>17.1333</td>\n",
       "      <td>-61.7833</td>\n",
       "      <td>19.2</td>\n",
       "      <td>NaN</td>\n",
       "      <td>ST JOHNS</td>\n",
       "      <td>NaN</td>\n",
       "      <td>NaN</td>\n",
       "      <td>NaN</td>\n",
       "    </tr>\n",
       "    <tr>\n",
       "      <th>2</th>\n",
       "      <td>AE000041196</td>\n",
       "      <td>25.3330</td>\n",
       "      <td>55.5170</td>\n",
       "      <td>34.0</td>\n",
       "      <td>NaN</td>\n",
       "      <td>SHARJAH INTER. AIRP</td>\n",
       "      <td>GSN</td>\n",
       "      <td>NaN</td>\n",
       "      <td>41196.0</td>\n",
       "    </tr>\n",
       "    <tr>\n",
       "      <th>3</th>\n",
       "      <td>AEM00041194</td>\n",
       "      <td>25.2550</td>\n",
       "      <td>55.3640</td>\n",
       "      <td>10.4</td>\n",
       "      <td>NaN</td>\n",
       "      <td>DUBAI INTL</td>\n",
       "      <td>NaN</td>\n",
       "      <td>NaN</td>\n",
       "      <td>41194.0</td>\n",
       "    </tr>\n",
       "    <tr>\n",
       "      <th>4</th>\n",
       "      <td>AEM00041217</td>\n",
       "      <td>24.4330</td>\n",
       "      <td>54.6510</td>\n",
       "      <td>26.8</td>\n",
       "      <td>NaN</td>\n",
       "      <td>ABU DHABI INTL</td>\n",
       "      <td>NaN</td>\n",
       "      <td>NaN</td>\n",
       "      <td>41217.0</td>\n",
       "    </tr>\n",
       "    <tr>\n",
       "      <th>...</th>\n",
       "      <td>...</td>\n",
       "      <td>...</td>\n",
       "      <td>...</td>\n",
       "      <td>...</td>\n",
       "      <td>...</td>\n",
       "      <td>...</td>\n",
       "      <td>...</td>\n",
       "      <td>...</td>\n",
       "      <td>...</td>\n",
       "    </tr>\n",
       "    <tr>\n",
       "      <th>118487</th>\n",
       "      <td>ZI000067969</td>\n",
       "      <td>-21.0500</td>\n",
       "      <td>29.3670</td>\n",
       "      <td>861.0</td>\n",
       "      <td>NaN</td>\n",
       "      <td>WEST NICHOLSON</td>\n",
       "      <td>NaN</td>\n",
       "      <td>NaN</td>\n",
       "      <td>67969.0</td>\n",
       "    </tr>\n",
       "    <tr>\n",
       "      <th>118488</th>\n",
       "      <td>ZI000067975</td>\n",
       "      <td>-20.0670</td>\n",
       "      <td>30.8670</td>\n",
       "      <td>1095.0</td>\n",
       "      <td>NaN</td>\n",
       "      <td>MASVINGO</td>\n",
       "      <td>NaN</td>\n",
       "      <td>NaN</td>\n",
       "      <td>67975.0</td>\n",
       "    </tr>\n",
       "    <tr>\n",
       "      <th>118489</th>\n",
       "      <td>ZI000067977</td>\n",
       "      <td>-21.0170</td>\n",
       "      <td>31.5830</td>\n",
       "      <td>430.0</td>\n",
       "      <td>NaN</td>\n",
       "      <td>BUFFALO RANGE</td>\n",
       "      <td>NaN</td>\n",
       "      <td>NaN</td>\n",
       "      <td>67977.0</td>\n",
       "    </tr>\n",
       "    <tr>\n",
       "      <th>118490</th>\n",
       "      <td>ZI000067983</td>\n",
       "      <td>-20.2000</td>\n",
       "      <td>32.6160</td>\n",
       "      <td>1132.0</td>\n",
       "      <td>NaN</td>\n",
       "      <td>CHIPINGE</td>\n",
       "      <td>GSN</td>\n",
       "      <td>NaN</td>\n",
       "      <td>67983.0</td>\n",
       "    </tr>\n",
       "    <tr>\n",
       "      <th>118491</th>\n",
       "      <td>ZI000067991</td>\n",
       "      <td>-22.2170</td>\n",
       "      <td>30.0000</td>\n",
       "      <td>457.0</td>\n",
       "      <td>NaN</td>\n",
       "      <td>BEITBRIDGE</td>\n",
       "      <td>NaN</td>\n",
       "      <td>NaN</td>\n",
       "      <td>67991.0</td>\n",
       "    </tr>\n",
       "  </tbody>\n",
       "</table>\n",
       "<p>118492 rows x 9 columns</p>\n",
       "</div>"
      ],
      "text/plain": [
       "                 ID  LATITUDE  LONGITUDE  ELEVATION STATE  \\\n",
       "0       ACW00011604   17.1167   -61.7833       10.1   NaN   \n",
       "1       ACW00011647   17.1333   -61.7833       19.2   NaN   \n",
       "2       AE000041196   25.3330    55.5170       34.0   NaN   \n",
       "3       AEM00041194   25.2550    55.3640       10.4   NaN   \n",
       "4       AEM00041217   24.4330    54.6510       26.8   NaN   \n",
       "...             ...       ...        ...        ...   ...   \n",
       "118487  ZI000067969  -21.0500    29.3670      861.0   NaN   \n",
       "118488  ZI000067975  -20.0670    30.8670     1095.0   NaN   \n",
       "118489  ZI000067977  -21.0170    31.5830      430.0   NaN   \n",
       "118490  ZI000067983  -20.2000    32.6160     1132.0   NaN   \n",
       "118491  ZI000067991  -22.2170    30.0000      457.0   NaN   \n",
       "\n",
       "                         NAME GSN FLAG HCN/CRN FLAG   WMO ID  \n",
       "0       ST JOHNS COOLIDGE FLD      NaN          NaN      NaN  \n",
       "1                    ST JOHNS      NaN          NaN      NaN  \n",
       "2         SHARJAH INTER. AIRP      GSN          NaN  41196.0  \n",
       "3                  DUBAI INTL      NaN          NaN  41194.0  \n",
       "4              ABU DHABI INTL      NaN          NaN  41217.0  \n",
       "...                       ...      ...          ...      ...  \n",
       "118487         WEST NICHOLSON      NaN          NaN  67969.0  \n",
       "118488               MASVINGO      NaN          NaN  67975.0  \n",
       "118489          BUFFALO RANGE      NaN          NaN  67977.0  \n",
       "118490               CHIPINGE      GSN          NaN  67983.0  \n",
       "118491             BEITBRIDGE      NaN          NaN  67991.0  \n",
       "\n",
       "[118492 rows x 9 columns]"
      ]
     },
     "execution_count": 4,
     "metadata": {},
     "output_type": "execute_result"
    }
   ],
   "source": [
    "stations = pd.read_fwf('s3://noaa-ghcn-pds/ghcnd-stations.txt', widths=[12, 9, 10, 7, 3, 31, 4, 4, 6], header=None)\n",
    "stations.columns = [\"ID\", \"LATITUDE\", \"LONGITUDE\", \"ELEVATION\", \"STATE\", \"NAME\", \"GSN FLAG\", \"HCN/CRN FLAG\", \"WMO ID\"]\n",
    "stations"
   ]
  },
  {
   "cell_type": "code",
   "execution_count": 5,
   "id": "f8e0230f",
   "metadata": {},
   "outputs": [
    {
     "name": "stderr",
     "output_type": "stream",
     "text": [
      "UserWarning: `Series.<lambda>` defaulting to pandas implementation.\n",
      "To request implementation, send an email to feature_requests@modin.org.\n",
      "UserWarning: Distributing <class 'pandas.core.frame.DataFrame'> object. This may take some time.\n"
     ]
    },
    {
     "data": {
      "text/html": [
       "<div>\n",
       "<style scoped>\n",
       "    .dataframe tbody tr th:only-of-type {\n",
       "        vertical-align: middle;\n",
       "    }\n",
       "\n",
       "    .dataframe tbody tr th {\n",
       "        vertical-align: top;\n",
       "    }\n",
       "\n",
       "    .dataframe thead th {\n",
       "        text-align: right;\n",
       "    }\n",
       "</style>\n",
       "<table border=\"1\" class=\"dataframe\">\n",
       "  <thead>\n",
       "    <tr style=\"text-align: right;\">\n",
       "      <th></th>\n",
       "      <th>code</th>\n",
       "      <th>country</th>\n",
       "    </tr>\n",
       "  </thead>\n",
       "  <tbody>\n",
       "    <tr>\n",
       "      <th>0</th>\n",
       "      <td>AC</td>\n",
       "      <td>Antigua and Barbuda</td>\n",
       "    </tr>\n",
       "    <tr>\n",
       "      <th>1</th>\n",
       "      <td>AE</td>\n",
       "      <td>United Arab Emirates</td>\n",
       "    </tr>\n",
       "    <tr>\n",
       "      <th>2</th>\n",
       "      <td>AF</td>\n",
       "      <td>Afghanistan</td>\n",
       "    </tr>\n",
       "    <tr>\n",
       "      <th>3</th>\n",
       "      <td>AG</td>\n",
       "      <td>Algeria</td>\n",
       "    </tr>\n",
       "    <tr>\n",
       "      <th>4</th>\n",
       "      <td>AJ</td>\n",
       "      <td>Azerbaijan</td>\n",
       "    </tr>\n",
       "    <tr>\n",
       "      <th>...</th>\n",
       "      <td>...</td>\n",
       "      <td>...</td>\n",
       "    </tr>\n",
       "    <tr>\n",
       "      <th>214</th>\n",
       "      <td>WI</td>\n",
       "      <td>Western Sahara</td>\n",
       "    </tr>\n",
       "    <tr>\n",
       "      <th>215</th>\n",
       "      <td>WQ</td>\n",
       "      <td>Wake Island [United States]</td>\n",
       "    </tr>\n",
       "    <tr>\n",
       "      <th>216</th>\n",
       "      <td>WZ</td>\n",
       "      <td>Swaziland</td>\n",
       "    </tr>\n",
       "    <tr>\n",
       "      <th>217</th>\n",
       "      <td>ZA</td>\n",
       "      <td>Zambia</td>\n",
       "    </tr>\n",
       "    <tr>\n",
       "      <th>218</th>\n",
       "      <td>ZI</td>\n",
       "      <td>Zimbabwe</td>\n",
       "    </tr>\n",
       "  </tbody>\n",
       "</table>\n",
       "<p>219 rows x 2 columns</p>\n",
       "</div>"
      ],
      "text/plain": [
       "    code                       country\n",
       "0     AC          Antigua and Barbuda \n",
       "1     AE         United Arab Emirates \n",
       "2     AF                   Afghanistan\n",
       "3     AG                      Algeria \n",
       "4     AJ                   Azerbaijan \n",
       "..   ...                           ...\n",
       "214   WI               Western Sahara \n",
       "215   WQ   Wake Island [United States]\n",
       "216   WZ                    Swaziland \n",
       "217   ZA                       Zambia \n",
       "218   ZI                     Zimbabwe \n",
       "\n",
       "[219 rows x 2 columns]"
      ]
     },
     "execution_count": 5,
     "metadata": {},
     "output_type": "execute_result"
    }
   ],
   "source": [
    "country_codes = pd.read_csv(\"s3://noaa-ghcn-pds/ghcnd-countries.txt\", delimiter=\"\\n\", header=None)[0].str.extract('(?P<code>.{2})(?P<country>.{0,})')\n",
    "country_codes"
   ]
  },
  {
   "cell_type": "markdown",
   "id": "af2e90cf",
   "metadata": {},
   "source": [
    "## Utility Functions\n",
    "Some helpful functions in helping with EDA"
   ]
  },
  {
   "cell_type": "code",
   "execution_count": 6,
   "id": "6a2af10d",
   "metadata": {},
   "outputs": [],
   "source": [
    "def data_loader(year, local=False):\n",
    "    if local:\n",
    "        df = pd.read_csv('data/' + str(year) + '.csv', header=None)\n",
    "    else:\n",
    "        df = pd.read_csv('s3://noaa-ghcn-pds/csv/' + str(year) + '.csv', header=None)\n",
    "    df.columns = [\"ID\", \"YEAR/MONTH/DAY\", \"ELEMENT\", \"DATA VALUE\", \"M-FLAG\", \"Q-FLAG\", \"S-FLAG\", \"OBS-TIME\"]\n",
    "    df[\"YEAR/MONTH/DAY\"] = pd.to_datetime(df[\"YEAR/MONTH/DAY\"], format=\"%Y%m%d\")\n",
    "    return df"
   ]
  },
  {
   "cell_type": "code",
   "execution_count": 7,
   "id": "23a5c63e",
   "metadata": {},
   "outputs": [],
   "source": [
    "def df_filter(df, _id, element):\n",
    "    return df.loc[(df[\"ID\"] == _id) & (df[\"ELEMENT\"] == element)][[\"YEAR/MONTH/DAY\", \"DATA VALUE\"]].set_index(\"YEAR/MONTH/DAY\")"
   ]
  },
  {
   "cell_type": "code",
   "execution_count": 244,
   "id": "786e2c83",
   "metadata": {},
   "outputs": [],
   "source": [
    "#same as df_filter, but a vector of ALL the data\n",
    "def df_filter_vector(_id, element, local=False):\n",
    "    df_vector = pd.DataFrame(columns=[\"DATA VALUE\"])\n",
    "    for year in tqdm(years):\n",
    "        if local:\n",
    "            df = df_filter(dfs[year], _id, element)\n",
    "        else:\n",
    "            df = df_filter(data_loader(year), _id, element)\n",
    "            \n",
    "        if df_vector.empty:\n",
    "            df_vector = df\n",
    "        else:\n",
    "            df_vector = df_vector.append(df)\n",
    "    return df_vector"
   ]
  },
  {
   "cell_type": "code",
   "execution_count": 8,
   "id": "684675cf",
   "metadata": {},
   "outputs": [],
   "source": [
    "#print statements are replaced with tqdm functions\n",
    "# MatPlotLib runs on single thread, we can parallelize plotting by using Ray\n",
    "@ray.remote\n",
    "def plotter(df, _id, element, save=False, year=None):\n",
    "    station_name = stations.loc[stations['ID'] == _id][\"NAME\"].item()\n",
    "    df = df_filter(df, _id, element)\n",
    "    \n",
    "    if df.empty:\n",
    "        tqdm.write(element + \" data on \" + str(year) + \" for \" + station_name + \" with id: \" + _id + \" is empty. Plotting is skipped.\")\n",
    "        return\n",
    "\n",
    "    plt.figure(figsize=(20, 10))\n",
    "    plt.plot(df)\n",
    "    plt.title(element + \" Data at \" + station_name)\n",
    "    plt.xlabel(\"Date\")\n",
    "    plt.ylabel(\"Value\")\n",
    "    #plt.xlim() #figure out a way to set limit of year\n",
    "    plt.ylim(-100, 400)\n",
    "    if save:\n",
    "        directory = \"figures/\" + _id + \"/\" + element\n",
    "        try:\n",
    "            # Create target directory\n",
    "            os.makedirs(directory)\n",
    "            tqdm.write(f\"Directory \" + directory + \" Created \")\n",
    "        except FileExistsError:\n",
    "            tqdm.write(f\"Directory \" + directory + \" already exists. File \" + directory + \"/\" + str(year) + \".png has been saved successfully.\")\n",
    "        \n",
    "        plt.savefig(directory + \"/\" + str(year) + \".png\")\n",
    "    plt.clf()"
   ]
  },
  {
   "cell_type": "markdown",
   "id": "5e101dfe",
   "metadata": {},
   "source": [
    "We can also store all the dataframes into memory, given that there is enough RAM. Dataset is ~100GB, so something more that that should be fine. (Uses 190GB of memory on this system)"
   ]
  },
  {
   "cell_type": "code",
   "execution_count": 9,
   "id": "4fd8076d",
   "metadata": {},
   "outputs": [
    {
     "data": {
      "application/vnd.jupyter.widget-view+json": {
       "model_id": "2de07bf30fbf4671b23ae81cd68a2682",
       "version_major": 2,
       "version_minor": 0
      },
      "text/plain": [
       "  0%|          | 0/259 [00:00<?, ?it/s]"
      ]
     },
     "metadata": {},
     "output_type": "display_data"
    }
   ],
   "source": [
    "dfs = {}\n",
    "for year in tqdm(years):\n",
    "    dfs[year] = data_loader(year, local=True) "
   ]
  },
  {
   "cell_type": "code",
   "execution_count": 84,
   "id": "2740aed7",
   "metadata": {},
   "outputs": [
    {
     "data": {
      "text/plain": [
       "ID\n",
       "AE     519865\n",
       "AF      67168\n",
       "AG    3365075\n",
       "AJ     575644\n",
       "AL      27366\n",
       "       ...   \n",
       "WF     288938\n",
       "WI      69554\n",
       "WQ     110031\n",
       "ZA       1083\n",
       "ZI      26033\n",
       "Name: DATA VALUE, Length: 194, dtype: int64"
      ]
     },
     "execution_count": 84,
     "metadata": {},
     "output_type": "execute_result"
    }
   ],
   "source": [
    "dfs[years[0]].groupby(dfs[years[0]][\"ID\"].str.slice(stop=2))[\"DATA VALUE\"].sum()"
   ]
  },
  {
   "cell_type": "code",
   "execution_count": 87,
   "id": "6344933a",
   "metadata": {
    "scrolled": true
   },
   "outputs": [
    {
     "name": "stderr",
     "output_type": "stream",
     "text": [
      "UserWarning: Distributing <class 'NoneType'> object. This may take some time.\n"
     ]
    },
    {
     "data": {
      "application/vnd.jupyter.widget-view+json": {
       "model_id": "cc1bebee0c8545debe7add02e74622c0",
       "version_major": 2,
       "version_minor": 0
      },
      "text/plain": [
       "  0%|          | 0/259 [00:00<?, ?it/s]"
      ]
     },
     "metadata": {},
     "output_type": "display_data"
    }
   ],
   "source": [
    "station_data_freq = pd.DataFrame()\n",
    "years.reverse() #reverse, so NaNs can be filled in to missing/old data\n",
    "\n",
    "for year in tqdm(years):\n",
    "    station_data_freq[year] = dfs[year].groupby(dfs[year][\"ID\"].str.slice(stop=2))[\"DATA VALUE\"].sum()\n",
    "\n",
    "years.reverse()\n",
    "station_data_freq = station_data_freq.fillna(0)"
   ]
  },
  {
   "cell_type": "code",
   "execution_count": 130,
   "id": "b081ae21",
   "metadata": {},
   "outputs": [
    {
     "data": {
      "text/html": [
       "<div>\n",
       "<style scoped>\n",
       "    .dataframe tbody tr th:only-of-type {\n",
       "        vertical-align: middle;\n",
       "    }\n",
       "\n",
       "    .dataframe tbody tr th {\n",
       "        vertical-align: top;\n",
       "    }\n",
       "\n",
       "    .dataframe thead th {\n",
       "        text-align: right;\n",
       "    }\n",
       "</style>\n",
       "<table border=\"1\" class=\"dataframe\">\n",
       "  <thead>\n",
       "    <tr style=\"text-align: right;\">\n",
       "      <th>ID</th>\n",
       "      <th>AE</th>\n",
       "      <th>AF</th>\n",
       "      <th>AG</th>\n",
       "      <th>AJ</th>\n",
       "      <th>AL</th>\n",
       "      <th>AM</th>\n",
       "      <th>AO</th>\n",
       "      <th>AQ</th>\n",
       "      <th>AR</th>\n",
       "      <th>AS</th>\n",
       "      <th>...</th>\n",
       "      <th>UZ</th>\n",
       "      <th>VE</th>\n",
       "      <th>VM</th>\n",
       "      <th>VQ</th>\n",
       "      <th>WA</th>\n",
       "      <th>WF</th>\n",
       "      <th>WI</th>\n",
       "      <th>WQ</th>\n",
       "      <th>ZA</th>\n",
       "      <th>ZI</th>\n",
       "    </tr>\n",
       "  </thead>\n",
       "  <tbody>\n",
       "    <tr>\n",
       "      <th>2021</th>\n",
       "      <td>519865.0</td>\n",
       "      <td>67168.0</td>\n",
       "      <td>3365075.0</td>\n",
       "      <td>575644.0</td>\n",
       "      <td>27366.0</td>\n",
       "      <td>528187.0</td>\n",
       "      <td>116387.0</td>\n",
       "      <td>233685.0</td>\n",
       "      <td>5736600.0</td>\n",
       "      <td>65259175.0</td>\n",
       "      <td>...</td>\n",
       "      <td>1665843.0</td>\n",
       "      <td>308660.0</td>\n",
       "      <td>1594501.0</td>\n",
       "      <td>1012654.0</td>\n",
       "      <td>777103.0</td>\n",
       "      <td>288938.0</td>\n",
       "      <td>69554.0</td>\n",
       "      <td>110031.0</td>\n",
       "      <td>1083.0</td>\n",
       "      <td>26033.0</td>\n",
       "    </tr>\n",
       "    <tr>\n",
       "      <th>2020</th>\n",
       "      <td>1049427.0</td>\n",
       "      <td>347809.0</td>\n",
       "      <td>6468526.0</td>\n",
       "      <td>1117900.0</td>\n",
       "      <td>149494.0</td>\n",
       "      <td>1063089.0</td>\n",
       "      <td>296152.0</td>\n",
       "      <td>620414.0</td>\n",
       "      <td>10303967.0</td>\n",
       "      <td>121229268.0</td>\n",
       "      <td>...</td>\n",
       "      <td>2944183.0</td>\n",
       "      <td>1060313.0</td>\n",
       "      <td>2830827.0</td>\n",
       "      <td>2002028.0</td>\n",
       "      <td>1310837.0</td>\n",
       "      <td>452695.0</td>\n",
       "      <td>149346.0</td>\n",
       "      <td>95449.0</td>\n",
       "      <td>7404.0</td>\n",
       "      <td>79597.0</td>\n",
       "    </tr>\n",
       "    <tr>\n",
       "      <th>2019</th>\n",
       "      <td>965715.0</td>\n",
       "      <td>381186.0</td>\n",
       "      <td>6352635.0</td>\n",
       "      <td>1155516.0</td>\n",
       "      <td>162282.0</td>\n",
       "      <td>1099505.0</td>\n",
       "      <td>264390.0</td>\n",
       "      <td>465857.0</td>\n",
       "      <td>8858792.0</td>\n",
       "      <td>112609962.0</td>\n",
       "      <td>...</td>\n",
       "      <td>3108996.0</td>\n",
       "      <td>540122.0</td>\n",
       "      <td>3350807.0</td>\n",
       "      <td>1938332.0</td>\n",
       "      <td>1793524.0</td>\n",
       "      <td>615150.0</td>\n",
       "      <td>135084.0</td>\n",
       "      <td>189020.0</td>\n",
       "      <td>28963.0</td>\n",
       "      <td>140548.0</td>\n",
       "    </tr>\n",
       "    <tr>\n",
       "      <th>2018</th>\n",
       "      <td>888756.0</td>\n",
       "      <td>274279.0</td>\n",
       "      <td>6694154.0</td>\n",
       "      <td>1174363.0</td>\n",
       "      <td>164416.0</td>\n",
       "      <td>1132851.0</td>\n",
       "      <td>208387.0</td>\n",
       "      <td>441797.0</td>\n",
       "      <td>8897612.0</td>\n",
       "      <td>120038907.0</td>\n",
       "      <td>...</td>\n",
       "      <td>2955479.0</td>\n",
       "      <td>1282236.0</td>\n",
       "      <td>2793026.0</td>\n",
       "      <td>1756558.0</td>\n",
       "      <td>1356098.0</td>\n",
       "      <td>476696.0</td>\n",
       "      <td>110540.0</td>\n",
       "      <td>98106.0</td>\n",
       "      <td>15406.0</td>\n",
       "      <td>210488.0</td>\n",
       "    </tr>\n",
       "    <tr>\n",
       "      <th>2017</th>\n",
       "      <td>910630.0</td>\n",
       "      <td>209730.0</td>\n",
       "      <td>6374097.0</td>\n",
       "      <td>924363.0</td>\n",
       "      <td>154446.0</td>\n",
       "      <td>998756.0</td>\n",
       "      <td>249585.0</td>\n",
       "      <td>437014.0</td>\n",
       "      <td>9310667.0</td>\n",
       "      <td>124485288.0</td>\n",
       "      <td>...</td>\n",
       "      <td>3090817.0</td>\n",
       "      <td>509367.0</td>\n",
       "      <td>2642634.0</td>\n",
       "      <td>1758009.0</td>\n",
       "      <td>1544604.0</td>\n",
       "      <td>535018.0</td>\n",
       "      <td>72900.0</td>\n",
       "      <td>122131.0</td>\n",
       "      <td>19058.0</td>\n",
       "      <td>387086.0</td>\n",
       "    </tr>\n",
       "    <tr>\n",
       "      <th>...</th>\n",
       "      <td>...</td>\n",
       "      <td>...</td>\n",
       "      <td>...</td>\n",
       "      <td>...</td>\n",
       "      <td>...</td>\n",
       "      <td>...</td>\n",
       "      <td>...</td>\n",
       "      <td>...</td>\n",
       "      <td>...</td>\n",
       "      <td>...</td>\n",
       "      <td>...</td>\n",
       "      <td>...</td>\n",
       "      <td>...</td>\n",
       "      <td>...</td>\n",
       "      <td>...</td>\n",
       "      <td>...</td>\n",
       "      <td>...</td>\n",
       "      <td>...</td>\n",
       "      <td>...</td>\n",
       "      <td>...</td>\n",
       "      <td>...</td>\n",
       "    </tr>\n",
       "    <tr>\n",
       "      <th>1767</th>\n",
       "      <td>0.0</td>\n",
       "      <td>0.0</td>\n",
       "      <td>0.0</td>\n",
       "      <td>0.0</td>\n",
       "      <td>0.0</td>\n",
       "      <td>0.0</td>\n",
       "      <td>0.0</td>\n",
       "      <td>0.0</td>\n",
       "      <td>0.0</td>\n",
       "      <td>0.0</td>\n",
       "      <td>...</td>\n",
       "      <td>0.0</td>\n",
       "      <td>0.0</td>\n",
       "      <td>0.0</td>\n",
       "      <td>0.0</td>\n",
       "      <td>0.0</td>\n",
       "      <td>0.0</td>\n",
       "      <td>0.0</td>\n",
       "      <td>0.0</td>\n",
       "      <td>0.0</td>\n",
       "      <td>0.0</td>\n",
       "    </tr>\n",
       "    <tr>\n",
       "      <th>1766</th>\n",
       "      <td>0.0</td>\n",
       "      <td>0.0</td>\n",
       "      <td>0.0</td>\n",
       "      <td>0.0</td>\n",
       "      <td>0.0</td>\n",
       "      <td>0.0</td>\n",
       "      <td>0.0</td>\n",
       "      <td>0.0</td>\n",
       "      <td>0.0</td>\n",
       "      <td>0.0</td>\n",
       "      <td>...</td>\n",
       "      <td>0.0</td>\n",
       "      <td>0.0</td>\n",
       "      <td>0.0</td>\n",
       "      <td>0.0</td>\n",
       "      <td>0.0</td>\n",
       "      <td>0.0</td>\n",
       "      <td>0.0</td>\n",
       "      <td>0.0</td>\n",
       "      <td>0.0</td>\n",
       "      <td>0.0</td>\n",
       "    </tr>\n",
       "    <tr>\n",
       "      <th>1765</th>\n",
       "      <td>0.0</td>\n",
       "      <td>0.0</td>\n",
       "      <td>0.0</td>\n",
       "      <td>0.0</td>\n",
       "      <td>0.0</td>\n",
       "      <td>0.0</td>\n",
       "      <td>0.0</td>\n",
       "      <td>0.0</td>\n",
       "      <td>0.0</td>\n",
       "      <td>0.0</td>\n",
       "      <td>...</td>\n",
       "      <td>0.0</td>\n",
       "      <td>0.0</td>\n",
       "      <td>0.0</td>\n",
       "      <td>0.0</td>\n",
       "      <td>0.0</td>\n",
       "      <td>0.0</td>\n",
       "      <td>0.0</td>\n",
       "      <td>0.0</td>\n",
       "      <td>0.0</td>\n",
       "      <td>0.0</td>\n",
       "    </tr>\n",
       "    <tr>\n",
       "      <th>1764</th>\n",
       "      <td>0.0</td>\n",
       "      <td>0.0</td>\n",
       "      <td>0.0</td>\n",
       "      <td>0.0</td>\n",
       "      <td>0.0</td>\n",
       "      <td>0.0</td>\n",
       "      <td>0.0</td>\n",
       "      <td>0.0</td>\n",
       "      <td>0.0</td>\n",
       "      <td>0.0</td>\n",
       "      <td>...</td>\n",
       "      <td>0.0</td>\n",
       "      <td>0.0</td>\n",
       "      <td>0.0</td>\n",
       "      <td>0.0</td>\n",
       "      <td>0.0</td>\n",
       "      <td>0.0</td>\n",
       "      <td>0.0</td>\n",
       "      <td>0.0</td>\n",
       "      <td>0.0</td>\n",
       "      <td>0.0</td>\n",
       "    </tr>\n",
       "    <tr>\n",
       "      <th>1763</th>\n",
       "      <td>0.0</td>\n",
       "      <td>0.0</td>\n",
       "      <td>0.0</td>\n",
       "      <td>0.0</td>\n",
       "      <td>0.0</td>\n",
       "      <td>0.0</td>\n",
       "      <td>0.0</td>\n",
       "      <td>0.0</td>\n",
       "      <td>0.0</td>\n",
       "      <td>0.0</td>\n",
       "      <td>...</td>\n",
       "      <td>0.0</td>\n",
       "      <td>0.0</td>\n",
       "      <td>0.0</td>\n",
       "      <td>0.0</td>\n",
       "      <td>0.0</td>\n",
       "      <td>0.0</td>\n",
       "      <td>0.0</td>\n",
       "      <td>0.0</td>\n",
       "      <td>0.0</td>\n",
       "      <td>0.0</td>\n",
       "    </tr>\n",
       "  </tbody>\n",
       "</table>\n",
       "<p>259 rows x 194 columns</p>\n",
       "</div>"
      ],
      "text/plain": [
       "ID           AE        AF         AG         AJ        AL         AM  \\\n",
       "2021   519865.0   67168.0  3365075.0   575644.0   27366.0   528187.0   \n",
       "2020  1049427.0  347809.0  6468526.0  1117900.0  149494.0  1063089.0   \n",
       "2019   965715.0  381186.0  6352635.0  1155516.0  162282.0  1099505.0   \n",
       "2018   888756.0  274279.0  6694154.0  1174363.0  164416.0  1132851.0   \n",
       "2017   910630.0  209730.0  6374097.0   924363.0  154446.0   998756.0   \n",
       "...         ...       ...        ...        ...       ...        ...   \n",
       "1767        0.0       0.0        0.0        0.0       0.0        0.0   \n",
       "1766        0.0       0.0        0.0        0.0       0.0        0.0   \n",
       "1765        0.0       0.0        0.0        0.0       0.0        0.0   \n",
       "1764        0.0       0.0        0.0        0.0       0.0        0.0   \n",
       "1763        0.0       0.0        0.0        0.0       0.0        0.0   \n",
       "\n",
       "ID          AO        AQ          AR           AS  ...         UZ         VE  \\\n",
       "2021  116387.0  233685.0   5736600.0   65259175.0  ...  1665843.0   308660.0   \n",
       "2020  296152.0  620414.0  10303967.0  121229268.0  ...  2944183.0  1060313.0   \n",
       "2019  264390.0  465857.0   8858792.0  112609962.0  ...  3108996.0   540122.0   \n",
       "2018  208387.0  441797.0   8897612.0  120038907.0  ...  2955479.0  1282236.0   \n",
       "2017  249585.0  437014.0   9310667.0  124485288.0  ...  3090817.0   509367.0   \n",
       "...        ...       ...         ...          ...  ...        ...        ...   \n",
       "1767       0.0       0.0         0.0          0.0  ...        0.0        0.0   \n",
       "1766       0.0       0.0         0.0          0.0  ...        0.0        0.0   \n",
       "1765       0.0       0.0         0.0          0.0  ...        0.0        0.0   \n",
       "1764       0.0       0.0         0.0          0.0  ...        0.0        0.0   \n",
       "1763       0.0       0.0         0.0          0.0  ...        0.0        0.0   \n",
       "\n",
       "ID           VM         VQ         WA        WF        WI        WQ       ZA  \\\n",
       "2021  1594501.0  1012654.0   777103.0  288938.0   69554.0  110031.0   1083.0   \n",
       "2020  2830827.0  2002028.0  1310837.0  452695.0  149346.0   95449.0   7404.0   \n",
       "2019  3350807.0  1938332.0  1793524.0  615150.0  135084.0  189020.0  28963.0   \n",
       "2018  2793026.0  1756558.0  1356098.0  476696.0  110540.0   98106.0  15406.0   \n",
       "2017  2642634.0  1758009.0  1544604.0  535018.0   72900.0  122131.0  19058.0   \n",
       "...         ...        ...        ...       ...       ...       ...      ...   \n",
       "1767        0.0        0.0        0.0       0.0       0.0       0.0      0.0   \n",
       "1766        0.0        0.0        0.0       0.0       0.0       0.0      0.0   \n",
       "1765        0.0        0.0        0.0       0.0       0.0       0.0      0.0   \n",
       "1764        0.0        0.0        0.0       0.0       0.0       0.0      0.0   \n",
       "1763        0.0        0.0        0.0       0.0       0.0       0.0      0.0   \n",
       "\n",
       "ID          ZI  \n",
       "2021   26033.0  \n",
       "2020   79597.0  \n",
       "2019  140548.0  \n",
       "2018  210488.0  \n",
       "2017  387086.0  \n",
       "...        ...  \n",
       "1767       0.0  \n",
       "1766       0.0  \n",
       "1765       0.0  \n",
       "1764       0.0  \n",
       "1763       0.0  \n",
       "\n",
       "[259 rows x 194 columns]"
      ]
     },
     "execution_count": 130,
     "metadata": {},
     "output_type": "execute_result"
    }
   ],
   "source": [
    "station_data_freq.T\n",
    "    "
   ]
  },
  {
   "cell_type": "code",
   "execution_count": 131,
   "id": "a0930480",
   "metadata": {},
   "outputs": [
    {
     "name": "stderr",
     "output_type": "stream",
     "text": [
      "RuntimeWarning: More than 20 figures have been opened. Figures created through the pyplot interface (`matplotlib.pyplot.figure`) are retained until explicitly closed and may consume too much memory. (To control this warning, see the rcParam `figure.max_open_warning`).\n"
     ]
    },
    {
     "data": {
      "text/plain": [
       "<Figure size 720x720 with 0 Axes>"
      ]
     },
     "metadata": {},
     "output_type": "display_data"
    },
    {
     "data": {
      "text/plain": [
       "<Figure size 720x720 with 0 Axes>"
      ]
     },
     "metadata": {},
     "output_type": "display_data"
    },
    {
     "data": {
      "text/plain": [
       "<Figure size 720x720 with 0 Axes>"
      ]
     },
     "metadata": {},
     "output_type": "display_data"
    },
    {
     "data": {
      "text/plain": [
       "<Figure size 720x720 with 0 Axes>"
      ]
     },
     "metadata": {},
     "output_type": "display_data"
    },
    {
     "data": {
      "text/plain": [
       "<Figure size 720x720 with 0 Axes>"
      ]
     },
     "metadata": {},
     "output_type": "display_data"
    },
    {
     "data": {
      "text/plain": [
       "<Figure size 720x720 with 0 Axes>"
      ]
     },
     "metadata": {},
     "output_type": "display_data"
    },
    {
     "data": {
      "text/plain": [
       "<Figure size 720x720 with 0 Axes>"
      ]
     },
     "metadata": {},
     "output_type": "display_data"
    },
    {
     "data": {
      "text/plain": [
       "<Figure size 720x720 with 0 Axes>"
      ]
     },
     "metadata": {},
     "output_type": "display_data"
    },
    {
     "data": {
      "text/plain": [
       "<Figure size 720x720 with 0 Axes>"
      ]
     },
     "metadata": {},
     "output_type": "display_data"
    },
    {
     "data": {
      "text/plain": [
       "<Figure size 720x720 with 0 Axes>"
      ]
     },
     "metadata": {},
     "output_type": "display_data"
    },
    {
     "data": {
      "text/plain": [
       "<Figure size 720x720 with 0 Axes>"
      ]
     },
     "metadata": {},
     "output_type": "display_data"
    },
    {
     "data": {
      "text/plain": [
       "<Figure size 720x720 with 0 Axes>"
      ]
     },
     "metadata": {},
     "output_type": "display_data"
    },
    {
     "data": {
      "text/plain": [
       "<Figure size 720x720 with 0 Axes>"
      ]
     },
     "metadata": {},
     "output_type": "display_data"
    },
    {
     "data": {
      "text/plain": [
       "<Figure size 720x720 with 0 Axes>"
      ]
     },
     "metadata": {},
     "output_type": "display_data"
    },
    {
     "data": {
      "text/plain": [
       "<Figure size 720x720 with 0 Axes>"
      ]
     },
     "metadata": {},
     "output_type": "display_data"
    },
    {
     "data": {
      "text/plain": [
       "<Figure size 720x720 with 0 Axes>"
      ]
     },
     "metadata": {},
     "output_type": "display_data"
    },
    {
     "data": {
      "text/plain": [
       "<Figure size 720x720 with 0 Axes>"
      ]
     },
     "metadata": {},
     "output_type": "display_data"
    },
    {
     "data": {
      "text/plain": [
       "<Figure size 720x720 with 0 Axes>"
      ]
     },
     "metadata": {},
     "output_type": "display_data"
    },
    {
     "data": {
      "text/plain": [
       "<Figure size 720x720 with 0 Axes>"
      ]
     },
     "metadata": {},
     "output_type": "display_data"
    },
    {
     "data": {
      "text/plain": [
       "<Figure size 720x720 with 0 Axes>"
      ]
     },
     "metadata": {},
     "output_type": "display_data"
    },
    {
     "data": {
      "text/plain": [
       "<Figure size 720x720 with 0 Axes>"
      ]
     },
     "metadata": {},
     "output_type": "display_data"
    },
    {
     "data": {
      "text/plain": [
       "<Figure size 720x720 with 0 Axes>"
      ]
     },
     "metadata": {},
     "output_type": "display_data"
    },
    {
     "data": {
      "text/plain": [
       "<Figure size 720x720 with 0 Axes>"
      ]
     },
     "metadata": {},
     "output_type": "display_data"
    },
    {
     "data": {
      "text/plain": [
       "<Figure size 720x720 with 0 Axes>"
      ]
     },
     "metadata": {},
     "output_type": "display_data"
    },
    {
     "data": {
      "text/plain": [
       "<Figure size 720x720 with 0 Axes>"
      ]
     },
     "metadata": {},
     "output_type": "display_data"
    },
    {
     "data": {
      "text/plain": [
       "<Figure size 720x720 with 0 Axes>"
      ]
     },
     "metadata": {},
     "output_type": "display_data"
    },
    {
     "data": {
      "text/plain": [
       "<Figure size 720x720 with 0 Axes>"
      ]
     },
     "metadata": {},
     "output_type": "display_data"
    },
    {
     "data": {
      "text/plain": [
       "<Figure size 720x720 with 0 Axes>"
      ]
     },
     "metadata": {},
     "output_type": "display_data"
    },
    {
     "data": {
      "text/plain": [
       "<Figure size 720x720 with 0 Axes>"
      ]
     },
     "metadata": {},
     "output_type": "display_data"
    },
    {
     "data": {
      "text/plain": [
       "<Figure size 720x720 with 0 Axes>"
      ]
     },
     "metadata": {},
     "output_type": "display_data"
    },
    {
     "data": {
      "text/plain": [
       "<Figure size 720x720 with 0 Axes>"
      ]
     },
     "metadata": {},
     "output_type": "display_data"
    },
    {
     "data": {
      "text/plain": [
       "<Figure size 720x720 with 0 Axes>"
      ]
     },
     "metadata": {},
     "output_type": "display_data"
    },
    {
     "data": {
      "text/plain": [
       "<Figure size 720x720 with 0 Axes>"
      ]
     },
     "metadata": {},
     "output_type": "display_data"
    },
    {
     "data": {
      "text/plain": [
       "<Figure size 720x720 with 0 Axes>"
      ]
     },
     "metadata": {},
     "output_type": "display_data"
    },
    {
     "data": {
      "text/plain": [
       "<Figure size 720x720 with 0 Axes>"
      ]
     },
     "metadata": {},
     "output_type": "display_data"
    },
    {
     "data": {
      "text/plain": [
       "<Figure size 720x720 with 0 Axes>"
      ]
     },
     "metadata": {},
     "output_type": "display_data"
    },
    {
     "data": {
      "text/plain": [
       "<Figure size 720x720 with 0 Axes>"
      ]
     },
     "metadata": {},
     "output_type": "display_data"
    },
    {
     "data": {
      "text/plain": [
       "<Figure size 720x720 with 0 Axes>"
      ]
     },
     "metadata": {},
     "output_type": "display_data"
    },
    {
     "data": {
      "text/plain": [
       "<Figure size 720x720 with 0 Axes>"
      ]
     },
     "metadata": {},
     "output_type": "display_data"
    },
    {
     "data": {
      "text/plain": [
       "<Figure size 720x720 with 0 Axes>"
      ]
     },
     "metadata": {},
     "output_type": "display_data"
    },
    {
     "data": {
      "text/plain": [
       "<Figure size 720x720 with 0 Axes>"
      ]
     },
     "metadata": {},
     "output_type": "display_data"
    },
    {
     "data": {
      "text/plain": [
       "<Figure size 720x720 with 0 Axes>"
      ]
     },
     "metadata": {},
     "output_type": "display_data"
    },
    {
     "data": {
      "text/plain": [
       "<Figure size 720x720 with 0 Axes>"
      ]
     },
     "metadata": {},
     "output_type": "display_data"
    },
    {
     "data": {
      "text/plain": [
       "<Figure size 720x720 with 0 Axes>"
      ]
     },
     "metadata": {},
     "output_type": "display_data"
    },
    {
     "data": {
      "text/plain": [
       "<Figure size 720x720 with 0 Axes>"
      ]
     },
     "metadata": {},
     "output_type": "display_data"
    },
    {
     "data": {
      "text/plain": [
       "<Figure size 720x720 with 0 Axes>"
      ]
     },
     "metadata": {},
     "output_type": "display_data"
    },
    {
     "data": {
      "text/plain": [
       "<Figure size 720x720 with 0 Axes>"
      ]
     },
     "metadata": {},
     "output_type": "display_data"
    },
    {
     "data": {
      "text/plain": [
       "<Figure size 720x720 with 0 Axes>"
      ]
     },
     "metadata": {},
     "output_type": "display_data"
    },
    {
     "data": {
      "text/plain": [
       "<Figure size 720x720 with 0 Axes>"
      ]
     },
     "metadata": {},
     "output_type": "display_data"
    },
    {
     "data": {
      "text/plain": [
       "<Figure size 720x720 with 0 Axes>"
      ]
     },
     "metadata": {},
     "output_type": "display_data"
    },
    {
     "data": {
      "text/plain": [
       "<Figure size 720x720 with 0 Axes>"
      ]
     },
     "metadata": {},
     "output_type": "display_data"
    },
    {
     "data": {
      "text/plain": [
       "<Figure size 720x720 with 0 Axes>"
      ]
     },
     "metadata": {},
     "output_type": "display_data"
    },
    {
     "data": {
      "text/plain": [
       "<Figure size 720x720 with 0 Axes>"
      ]
     },
     "metadata": {},
     "output_type": "display_data"
    },
    {
     "data": {
      "text/plain": [
       "<Figure size 720x720 with 0 Axes>"
      ]
     },
     "metadata": {},
     "output_type": "display_data"
    },
    {
     "data": {
      "text/plain": [
       "<Figure size 720x720 with 0 Axes>"
      ]
     },
     "metadata": {},
     "output_type": "display_data"
    },
    {
     "data": {
      "text/plain": [
       "<Figure size 720x720 with 0 Axes>"
      ]
     },
     "metadata": {},
     "output_type": "display_data"
    },
    {
     "data": {
      "text/plain": [
       "<Figure size 720x720 with 0 Axes>"
      ]
     },
     "metadata": {},
     "output_type": "display_data"
    },
    {
     "data": {
      "text/plain": [
       "<Figure size 720x720 with 0 Axes>"
      ]
     },
     "metadata": {},
     "output_type": "display_data"
    },
    {
     "data": {
      "text/plain": [
       "<Figure size 720x720 with 0 Axes>"
      ]
     },
     "metadata": {},
     "output_type": "display_data"
    },
    {
     "data": {
      "text/plain": [
       "<Figure size 720x720 with 0 Axes>"
      ]
     },
     "metadata": {},
     "output_type": "display_data"
    },
    {
     "data": {
      "text/plain": [
       "<Figure size 720x720 with 0 Axes>"
      ]
     },
     "metadata": {},
     "output_type": "display_data"
    },
    {
     "data": {
      "text/plain": [
       "<Figure size 720x720 with 0 Axes>"
      ]
     },
     "metadata": {},
     "output_type": "display_data"
    },
    {
     "data": {
      "text/plain": [
       "<Figure size 720x720 with 0 Axes>"
      ]
     },
     "metadata": {},
     "output_type": "display_data"
    },
    {
     "data": {
      "text/plain": [
       "<Figure size 720x720 with 0 Axes>"
      ]
     },
     "metadata": {},
     "output_type": "display_data"
    },
    {
     "data": {
      "text/plain": [
       "<Figure size 720x720 with 0 Axes>"
      ]
     },
     "metadata": {},
     "output_type": "display_data"
    },
    {
     "data": {
      "text/plain": [
       "<Figure size 720x720 with 0 Axes>"
      ]
     },
     "metadata": {},
     "output_type": "display_data"
    },
    {
     "data": {
      "text/plain": [
       "<Figure size 720x720 with 0 Axes>"
      ]
     },
     "metadata": {},
     "output_type": "display_data"
    },
    {
     "data": {
      "text/plain": [
       "<Figure size 720x720 with 0 Axes>"
      ]
     },
     "metadata": {},
     "output_type": "display_data"
    },
    {
     "data": {
      "text/plain": [
       "<Figure size 720x720 with 0 Axes>"
      ]
     },
     "metadata": {},
     "output_type": "display_data"
    },
    {
     "data": {
      "text/plain": [
       "<Figure size 720x720 with 0 Axes>"
      ]
     },
     "metadata": {},
     "output_type": "display_data"
    },
    {
     "data": {
      "text/plain": [
       "<Figure size 720x720 with 0 Axes>"
      ]
     },
     "metadata": {},
     "output_type": "display_data"
    },
    {
     "data": {
      "text/plain": [
       "<Figure size 720x720 with 0 Axes>"
      ]
     },
     "metadata": {},
     "output_type": "display_data"
    },
    {
     "data": {
      "text/plain": [
       "<Figure size 720x720 with 0 Axes>"
      ]
     },
     "metadata": {},
     "output_type": "display_data"
    },
    {
     "data": {
      "text/plain": [
       "<Figure size 720x720 with 0 Axes>"
      ]
     },
     "metadata": {},
     "output_type": "display_data"
    },
    {
     "data": {
      "text/plain": [
       "<Figure size 720x720 with 0 Axes>"
      ]
     },
     "metadata": {},
     "output_type": "display_data"
    },
    {
     "data": {
      "text/plain": [
       "<Figure size 720x720 with 0 Axes>"
      ]
     },
     "metadata": {},
     "output_type": "display_data"
    },
    {
     "data": {
      "text/plain": [
       "<Figure size 720x720 with 0 Axes>"
      ]
     },
     "metadata": {},
     "output_type": "display_data"
    },
    {
     "data": {
      "text/plain": [
       "<Figure size 720x720 with 0 Axes>"
      ]
     },
     "metadata": {},
     "output_type": "display_data"
    },
    {
     "data": {
      "text/plain": [
       "<Figure size 720x720 with 0 Axes>"
      ]
     },
     "metadata": {},
     "output_type": "display_data"
    },
    {
     "data": {
      "text/plain": [
       "<Figure size 720x720 with 0 Axes>"
      ]
     },
     "metadata": {},
     "output_type": "display_data"
    },
    {
     "data": {
      "text/plain": [
       "<Figure size 720x720 with 0 Axes>"
      ]
     },
     "metadata": {},
     "output_type": "display_data"
    },
    {
     "data": {
      "text/plain": [
       "<Figure size 720x720 with 0 Axes>"
      ]
     },
     "metadata": {},
     "output_type": "display_data"
    },
    {
     "data": {
      "text/plain": [
       "<Figure size 720x720 with 0 Axes>"
      ]
     },
     "metadata": {},
     "output_type": "display_data"
    },
    {
     "data": {
      "text/plain": [
       "<Figure size 720x720 with 0 Axes>"
      ]
     },
     "metadata": {},
     "output_type": "display_data"
    },
    {
     "data": {
      "text/plain": [
       "<Figure size 720x720 with 0 Axes>"
      ]
     },
     "metadata": {},
     "output_type": "display_data"
    },
    {
     "data": {
      "text/plain": [
       "<Figure size 720x720 with 0 Axes>"
      ]
     },
     "metadata": {},
     "output_type": "display_data"
    },
    {
     "data": {
      "text/plain": [
       "<Figure size 720x720 with 0 Axes>"
      ]
     },
     "metadata": {},
     "output_type": "display_data"
    },
    {
     "data": {
      "text/plain": [
       "<Figure size 720x720 with 0 Axes>"
      ]
     },
     "metadata": {},
     "output_type": "display_data"
    },
    {
     "data": {
      "text/plain": [
       "<Figure size 720x720 with 0 Axes>"
      ]
     },
     "metadata": {},
     "output_type": "display_data"
    },
    {
     "data": {
      "text/plain": [
       "<Figure size 720x720 with 0 Axes>"
      ]
     },
     "metadata": {},
     "output_type": "display_data"
    },
    {
     "data": {
      "text/plain": [
       "<Figure size 720x720 with 0 Axes>"
      ]
     },
     "metadata": {},
     "output_type": "display_data"
    },
    {
     "data": {
      "text/plain": [
       "<Figure size 720x720 with 0 Axes>"
      ]
     },
     "metadata": {},
     "output_type": "display_data"
    },
    {
     "data": {
      "text/plain": [
       "<Figure size 720x720 with 0 Axes>"
      ]
     },
     "metadata": {},
     "output_type": "display_data"
    },
    {
     "data": {
      "text/plain": [
       "<Figure size 720x720 with 0 Axes>"
      ]
     },
     "metadata": {},
     "output_type": "display_data"
    },
    {
     "data": {
      "text/plain": [
       "<Figure size 720x720 with 0 Axes>"
      ]
     },
     "metadata": {},
     "output_type": "display_data"
    },
    {
     "data": {
      "text/plain": [
       "<Figure size 720x720 with 0 Axes>"
      ]
     },
     "metadata": {},
     "output_type": "display_data"
    },
    {
     "data": {
      "text/plain": [
       "<Figure size 720x720 with 0 Axes>"
      ]
     },
     "metadata": {},
     "output_type": "display_data"
    },
    {
     "data": {
      "text/plain": [
       "<Figure size 720x720 with 0 Axes>"
      ]
     },
     "metadata": {},
     "output_type": "display_data"
    },
    {
     "data": {
      "text/plain": [
       "<Figure size 720x720 with 0 Axes>"
      ]
     },
     "metadata": {},
     "output_type": "display_data"
    },
    {
     "data": {
      "text/plain": [
       "<Figure size 720x720 with 0 Axes>"
      ]
     },
     "metadata": {},
     "output_type": "display_data"
    },
    {
     "data": {
      "text/plain": [
       "<Figure size 720x720 with 0 Axes>"
      ]
     },
     "metadata": {},
     "output_type": "display_data"
    },
    {
     "data": {
      "text/plain": [
       "<Figure size 720x720 with 0 Axes>"
      ]
     },
     "metadata": {},
     "output_type": "display_data"
    },
    {
     "data": {
      "text/plain": [
       "<Figure size 720x720 with 0 Axes>"
      ]
     },
     "metadata": {},
     "output_type": "display_data"
    },
    {
     "data": {
      "text/plain": [
       "<Figure size 720x720 with 0 Axes>"
      ]
     },
     "metadata": {},
     "output_type": "display_data"
    },
    {
     "data": {
      "text/plain": [
       "<Figure size 720x720 with 0 Axes>"
      ]
     },
     "metadata": {},
     "output_type": "display_data"
    },
    {
     "data": {
      "text/plain": [
       "<Figure size 720x720 with 0 Axes>"
      ]
     },
     "metadata": {},
     "output_type": "display_data"
    },
    {
     "data": {
      "text/plain": [
       "<Figure size 720x720 with 0 Axes>"
      ]
     },
     "metadata": {},
     "output_type": "display_data"
    },
    {
     "data": {
      "text/plain": [
       "<Figure size 720x720 with 0 Axes>"
      ]
     },
     "metadata": {},
     "output_type": "display_data"
    },
    {
     "data": {
      "text/plain": [
       "<Figure size 720x720 with 0 Axes>"
      ]
     },
     "metadata": {},
     "output_type": "display_data"
    },
    {
     "data": {
      "text/plain": [
       "<Figure size 720x720 with 0 Axes>"
      ]
     },
     "metadata": {},
     "output_type": "display_data"
    },
    {
     "data": {
      "text/plain": [
       "<Figure size 720x720 with 0 Axes>"
      ]
     },
     "metadata": {},
     "output_type": "display_data"
    },
    {
     "data": {
      "text/plain": [
       "<Figure size 720x720 with 0 Axes>"
      ]
     },
     "metadata": {},
     "output_type": "display_data"
    },
    {
     "data": {
      "text/plain": [
       "<Figure size 720x720 with 0 Axes>"
      ]
     },
     "metadata": {},
     "output_type": "display_data"
    },
    {
     "data": {
      "text/plain": [
       "<Figure size 720x720 with 0 Axes>"
      ]
     },
     "metadata": {},
     "output_type": "display_data"
    },
    {
     "data": {
      "text/plain": [
       "<Figure size 720x720 with 0 Axes>"
      ]
     },
     "metadata": {},
     "output_type": "display_data"
    },
    {
     "data": {
      "text/plain": [
       "<Figure size 720x720 with 0 Axes>"
      ]
     },
     "metadata": {},
     "output_type": "display_data"
    },
    {
     "data": {
      "text/plain": [
       "<Figure size 720x720 with 0 Axes>"
      ]
     },
     "metadata": {},
     "output_type": "display_data"
    },
    {
     "data": {
      "text/plain": [
       "<Figure size 720x720 with 0 Axes>"
      ]
     },
     "metadata": {},
     "output_type": "display_data"
    },
    {
     "data": {
      "text/plain": [
       "<Figure size 720x720 with 0 Axes>"
      ]
     },
     "metadata": {},
     "output_type": "display_data"
    },
    {
     "data": {
      "text/plain": [
       "<Figure size 720x720 with 0 Axes>"
      ]
     },
     "metadata": {},
     "output_type": "display_data"
    },
    {
     "data": {
      "text/plain": [
       "<Figure size 720x720 with 0 Axes>"
      ]
     },
     "metadata": {},
     "output_type": "display_data"
    },
    {
     "data": {
      "text/plain": [
       "<Figure size 720x720 with 0 Axes>"
      ]
     },
     "metadata": {},
     "output_type": "display_data"
    },
    {
     "data": {
      "text/plain": [
       "<Figure size 720x720 with 0 Axes>"
      ]
     },
     "metadata": {},
     "output_type": "display_data"
    },
    {
     "data": {
      "text/plain": [
       "<Figure size 720x720 with 0 Axes>"
      ]
     },
     "metadata": {},
     "output_type": "display_data"
    },
    {
     "data": {
      "text/plain": [
       "<Figure size 720x720 with 0 Axes>"
      ]
     },
     "metadata": {},
     "output_type": "display_data"
    },
    {
     "data": {
      "text/plain": [
       "<Figure size 720x720 with 0 Axes>"
      ]
     },
     "metadata": {},
     "output_type": "display_data"
    },
    {
     "data": {
      "text/plain": [
       "<Figure size 720x720 with 0 Axes>"
      ]
     },
     "metadata": {},
     "output_type": "display_data"
    },
    {
     "data": {
      "text/plain": [
       "<Figure size 720x720 with 0 Axes>"
      ]
     },
     "metadata": {},
     "output_type": "display_data"
    },
    {
     "data": {
      "text/plain": [
       "<Figure size 720x720 with 0 Axes>"
      ]
     },
     "metadata": {},
     "output_type": "display_data"
    },
    {
     "data": {
      "text/plain": [
       "<Figure size 720x720 with 0 Axes>"
      ]
     },
     "metadata": {},
     "output_type": "display_data"
    },
    {
     "data": {
      "text/plain": [
       "<Figure size 720x720 with 0 Axes>"
      ]
     },
     "metadata": {},
     "output_type": "display_data"
    },
    {
     "data": {
      "text/plain": [
       "<Figure size 720x720 with 0 Axes>"
      ]
     },
     "metadata": {},
     "output_type": "display_data"
    },
    {
     "data": {
      "text/plain": [
       "<Figure size 720x720 with 0 Axes>"
      ]
     },
     "metadata": {},
     "output_type": "display_data"
    },
    {
     "data": {
      "text/plain": [
       "<Figure size 720x720 with 0 Axes>"
      ]
     },
     "metadata": {},
     "output_type": "display_data"
    },
    {
     "data": {
      "text/plain": [
       "<Figure size 720x720 with 0 Axes>"
      ]
     },
     "metadata": {},
     "output_type": "display_data"
    },
    {
     "data": {
      "text/plain": [
       "<Figure size 720x720 with 0 Axes>"
      ]
     },
     "metadata": {},
     "output_type": "display_data"
    },
    {
     "data": {
      "text/plain": [
       "<Figure size 720x720 with 0 Axes>"
      ]
     },
     "metadata": {},
     "output_type": "display_data"
    },
    {
     "data": {
      "text/plain": [
       "<Figure size 720x720 with 0 Axes>"
      ]
     },
     "metadata": {},
     "output_type": "display_data"
    },
    {
     "data": {
      "text/plain": [
       "<Figure size 720x720 with 0 Axes>"
      ]
     },
     "metadata": {},
     "output_type": "display_data"
    },
    {
     "data": {
      "text/plain": [
       "<Figure size 720x720 with 0 Axes>"
      ]
     },
     "metadata": {},
     "output_type": "display_data"
    },
    {
     "data": {
      "text/plain": [
       "<Figure size 720x720 with 0 Axes>"
      ]
     },
     "metadata": {},
     "output_type": "display_data"
    },
    {
     "data": {
      "text/plain": [
       "<Figure size 720x720 with 0 Axes>"
      ]
     },
     "metadata": {},
     "output_type": "display_data"
    },
    {
     "data": {
      "text/plain": [
       "<Figure size 720x720 with 0 Axes>"
      ]
     },
     "metadata": {},
     "output_type": "display_data"
    },
    {
     "data": {
      "text/plain": [
       "<Figure size 720x720 with 0 Axes>"
      ]
     },
     "metadata": {},
     "output_type": "display_data"
    },
    {
     "data": {
      "text/plain": [
       "<Figure size 720x720 with 0 Axes>"
      ]
     },
     "metadata": {},
     "output_type": "display_data"
    },
    {
     "data": {
      "text/plain": [
       "<Figure size 720x720 with 0 Axes>"
      ]
     },
     "metadata": {},
     "output_type": "display_data"
    },
    {
     "data": {
      "text/plain": [
       "<Figure size 720x720 with 0 Axes>"
      ]
     },
     "metadata": {},
     "output_type": "display_data"
    },
    {
     "data": {
      "text/plain": [
       "<Figure size 720x720 with 0 Axes>"
      ]
     },
     "metadata": {},
     "output_type": "display_data"
    },
    {
     "data": {
      "text/plain": [
       "<Figure size 720x720 with 0 Axes>"
      ]
     },
     "metadata": {},
     "output_type": "display_data"
    },
    {
     "data": {
      "text/plain": [
       "<Figure size 720x720 with 0 Axes>"
      ]
     },
     "metadata": {},
     "output_type": "display_data"
    },
    {
     "data": {
      "text/plain": [
       "<Figure size 720x720 with 0 Axes>"
      ]
     },
     "metadata": {},
     "output_type": "display_data"
    },
    {
     "data": {
      "text/plain": [
       "<Figure size 720x720 with 0 Axes>"
      ]
     },
     "metadata": {},
     "output_type": "display_data"
    },
    {
     "data": {
      "text/plain": [
       "<Figure size 720x720 with 0 Axes>"
      ]
     },
     "metadata": {},
     "output_type": "display_data"
    },
    {
     "data": {
      "text/plain": [
       "<Figure size 720x720 with 0 Axes>"
      ]
     },
     "metadata": {},
     "output_type": "display_data"
    },
    {
     "data": {
      "text/plain": [
       "<Figure size 720x720 with 0 Axes>"
      ]
     },
     "metadata": {},
     "output_type": "display_data"
    },
    {
     "data": {
      "text/plain": [
       "<Figure size 720x720 with 0 Axes>"
      ]
     },
     "metadata": {},
     "output_type": "display_data"
    },
    {
     "data": {
      "text/plain": [
       "<Figure size 720x720 with 0 Axes>"
      ]
     },
     "metadata": {},
     "output_type": "display_data"
    },
    {
     "data": {
      "text/plain": [
       "<Figure size 720x720 with 0 Axes>"
      ]
     },
     "metadata": {},
     "output_type": "display_data"
    },
    {
     "data": {
      "text/plain": [
       "<Figure size 720x720 with 0 Axes>"
      ]
     },
     "metadata": {},
     "output_type": "display_data"
    },
    {
     "data": {
      "text/plain": [
       "<Figure size 720x720 with 0 Axes>"
      ]
     },
     "metadata": {},
     "output_type": "display_data"
    },
    {
     "data": {
      "text/plain": [
       "<Figure size 720x720 with 0 Axes>"
      ]
     },
     "metadata": {},
     "output_type": "display_data"
    },
    {
     "data": {
      "text/plain": [
       "<Figure size 720x720 with 0 Axes>"
      ]
     },
     "metadata": {},
     "output_type": "display_data"
    },
    {
     "data": {
      "text/plain": [
       "<Figure size 720x720 with 0 Axes>"
      ]
     },
     "metadata": {},
     "output_type": "display_data"
    },
    {
     "data": {
      "text/plain": [
       "<Figure size 720x720 with 0 Axes>"
      ]
     },
     "metadata": {},
     "output_type": "display_data"
    },
    {
     "data": {
      "text/plain": [
       "<Figure size 720x720 with 0 Axes>"
      ]
     },
     "metadata": {},
     "output_type": "display_data"
    },
    {
     "data": {
      "text/plain": [
       "<Figure size 720x720 with 0 Axes>"
      ]
     },
     "metadata": {},
     "output_type": "display_data"
    },
    {
     "data": {
      "text/plain": [
       "<Figure size 720x720 with 0 Axes>"
      ]
     },
     "metadata": {},
     "output_type": "display_data"
    },
    {
     "data": {
      "text/plain": [
       "<Figure size 720x720 with 0 Axes>"
      ]
     },
     "metadata": {},
     "output_type": "display_data"
    },
    {
     "data": {
      "text/plain": [
       "<Figure size 720x720 with 0 Axes>"
      ]
     },
     "metadata": {},
     "output_type": "display_data"
    },
    {
     "data": {
      "text/plain": [
       "<Figure size 720x720 with 0 Axes>"
      ]
     },
     "metadata": {},
     "output_type": "display_data"
    },
    {
     "data": {
      "text/plain": [
       "<Figure size 720x720 with 0 Axes>"
      ]
     },
     "metadata": {},
     "output_type": "display_data"
    },
    {
     "data": {
      "text/plain": [
       "<Figure size 720x720 with 0 Axes>"
      ]
     },
     "metadata": {},
     "output_type": "display_data"
    },
    {
     "data": {
      "text/plain": [
       "<Figure size 720x720 with 0 Axes>"
      ]
     },
     "metadata": {},
     "output_type": "display_data"
    },
    {
     "data": {
      "text/plain": [
       "<Figure size 720x720 with 0 Axes>"
      ]
     },
     "metadata": {},
     "output_type": "display_data"
    },
    {
     "data": {
      "text/plain": [
       "<Figure size 720x720 with 0 Axes>"
      ]
     },
     "metadata": {},
     "output_type": "display_data"
    },
    {
     "data": {
      "text/plain": [
       "<Figure size 720x720 with 0 Axes>"
      ]
     },
     "metadata": {},
     "output_type": "display_data"
    },
    {
     "data": {
      "text/plain": [
       "<Figure size 720x720 with 0 Axes>"
      ]
     },
     "metadata": {},
     "output_type": "display_data"
    },
    {
     "data": {
      "text/plain": [
       "<Figure size 720x720 with 0 Axes>"
      ]
     },
     "metadata": {},
     "output_type": "display_data"
    },
    {
     "data": {
      "text/plain": [
       "<Figure size 720x720 with 0 Axes>"
      ]
     },
     "metadata": {},
     "output_type": "display_data"
    },
    {
     "data": {
      "text/plain": [
       "<Figure size 720x720 with 0 Axes>"
      ]
     },
     "metadata": {},
     "output_type": "display_data"
    },
    {
     "data": {
      "text/plain": [
       "<Figure size 720x720 with 0 Axes>"
      ]
     },
     "metadata": {},
     "output_type": "display_data"
    },
    {
     "data": {
      "text/plain": [
       "<Figure size 720x720 with 0 Axes>"
      ]
     },
     "metadata": {},
     "output_type": "display_data"
    },
    {
     "data": {
      "text/plain": [
       "<Figure size 720x720 with 0 Axes>"
      ]
     },
     "metadata": {},
     "output_type": "display_data"
    },
    {
     "data": {
      "text/plain": [
       "<Figure size 720x720 with 0 Axes>"
      ]
     },
     "metadata": {},
     "output_type": "display_data"
    },
    {
     "data": {
      "text/plain": [
       "<Figure size 720x720 with 0 Axes>"
      ]
     },
     "metadata": {},
     "output_type": "display_data"
    },
    {
     "data": {
      "text/plain": [
       "<Figure size 720x720 with 0 Axes>"
      ]
     },
     "metadata": {},
     "output_type": "display_data"
    },
    {
     "data": {
      "text/plain": [
       "<Figure size 720x720 with 0 Axes>"
      ]
     },
     "metadata": {},
     "output_type": "display_data"
    },
    {
     "data": {
      "text/plain": [
       "<Figure size 720x720 with 0 Axes>"
      ]
     },
     "metadata": {},
     "output_type": "display_data"
    },
    {
     "data": {
      "text/plain": [
       "<Figure size 720x720 with 0 Axes>"
      ]
     },
     "metadata": {},
     "output_type": "display_data"
    },
    {
     "data": {
      "text/plain": [
       "<Figure size 720x720 with 0 Axes>"
      ]
     },
     "metadata": {},
     "output_type": "display_data"
    },
    {
     "data": {
      "text/plain": [
       "<Figure size 720x720 with 0 Axes>"
      ]
     },
     "metadata": {},
     "output_type": "display_data"
    },
    {
     "data": {
      "text/plain": [
       "<Figure size 720x720 with 0 Axes>"
      ]
     },
     "metadata": {},
     "output_type": "display_data"
    },
    {
     "data": {
      "text/plain": [
       "<Figure size 720x720 with 0 Axes>"
      ]
     },
     "metadata": {},
     "output_type": "display_data"
    },
    {
     "data": {
      "text/plain": [
       "<Figure size 720x720 with 0 Axes>"
      ]
     },
     "metadata": {},
     "output_type": "display_data"
    }
   ],
   "source": [
    "for index, row in tqdm(country_codes.iterrows()): \n",
    "    if row[0] in station_data_freq.T.columns:\n",
    "        fig = plt.figure(figsize=(10, 10))\n",
    "        ax = station_data_freq.T[row[0]].plot()\n",
    "        ax.set_xlabel(\"Years\")\n",
    "        ax.set_ylabel(\"Number of Data Points\")\n",
    "        #filename = \n",
    "        plt.savefig((\"figures/datasamples/\" + row[1] + \".png\").replace(\" \", \"_\"))\n",
    "        plt.clf()"
   ]
  },
  {
   "cell_type": "code",
   "execution_count": 133,
   "id": "1ac37dee",
   "metadata": {},
   "outputs": [
    {
     "data": {
      "application/vnd.jupyter.widget-view+json": {
       "model_id": "33053633a58e41a2bb16040cdba8b80e",
       "version_major": 2,
       "version_minor": 0
      },
      "text/plain": [
       "  0%|          | 0/259 [00:00<?, ?it/s]"
      ]
     },
     "metadata": {},
     "output_type": "display_data"
    }
   ],
   "source": [
    "sample_points = []\n",
    "for year in tqdm(years):\n",
    "    sample_points.append(len(dfs[year].index))\n",
    "    "
   ]
  },
  {
   "cell_type": "markdown",
   "id": "b5ec4eb9",
   "metadata": {},
   "source": [
    "Note that there is a dip at the end. That is due to this dataset being live and including the year 2021 (the current year making this notebook)."
   ]
  },
  {
   "cell_type": "code",
   "execution_count": 134,
   "id": "c1b74cf0",
   "metadata": {
    "scrolled": true
   },
   "outputs": [
    {
     "data": {
      "text/plain": [
       "[<matplotlib.lines.Line2D at 0x7f025e8afb90>]"
      ]
     },
     "execution_count": 134,
     "metadata": {},
     "output_type": "execute_result"
    },
    {
     "data": {
      "image/png": "[encoded data removed]",
      "text/plain": [
       "<Figure size 432x288 with 1 Axes>"
      ]
     },
     "metadata": {
      "needs_background": "light"
     },
     "output_type": "display_data"
    }
   ],
   "source": [
    "plt.plot(years, sample_points)"
   ]
  },
  {
   "cell_type": "code",
   "execution_count": null,
   "id": "0be2c088",
   "metadata": {},
   "outputs": [],
   "source": [
    "\"\"\"\n",
    "for _id in tqdm(stations[\"ID\"]):\n",
    "    for element in elements:\n",
    "        for year in years:\n",
    "            plotter.remote(dfs[year], _id, element, save=True, year=year)\n",
    "\"\"\""
   ]
  },
  {
   "cell_type": "code",
   "execution_count": 245,
   "id": "6199e0d0",
   "metadata": {
    "scrolled": true
   },
   "outputs": [
    {
     "name": "stderr",
     "output_type": "stream",
     "text": [
      "UserWarning: Distributing <class 'NoneType'> object. This may take some time.\n"
     ]
    },
    {
     "data": {
      "application/vnd.jupyter.widget-view+json": {
       "model_id": "0361dc99c88349dbbc864d1f1b48ac34",
       "version_major": 2,
       "version_minor": 0
      },
      "text/plain": [
       "  0%|          | 0/259 [00:00<?, ?it/s]"
      ]
     },
     "metadata": {},
     "output_type": "display_data"
    },
    {
     "name": "stderr",
     "output_type": "stream",
     "text": [
      "UserWarning: `DataFrame.__getitem__` for empty DataFrame defaulting to pandas implementation.\n",
      "UserWarning: Distributing <class 'pandas.core.frame.DataFrame'> object. This may take some time.\n",
      "UserWarning: `DataFrame.set_index` for empty DataFrame defaulting to pandas implementation.\n",
      "UserWarning: Due to https://github.com/pandas-dev/pandas/issues/35092, Pandas ignores sort=False; Modin correctly does not sort.\n"
     ]
    },
    {
     "data": {
      "text/html": [
       "<div>\n",
       "<style scoped>\n",
       "    .dataframe tbody tr th:only-of-type {\n",
       "        vertical-align: middle;\n",
       "    }\n",
       "\n",
       "    .dataframe tbody tr th {\n",
       "        vertical-align: top;\n",
       "    }\n",
       "\n",
       "    .dataframe thead th {\n",
       "        text-align: right;\n",
       "    }\n",
       "</style>\n",
       "<table border=\"1\" class=\"dataframe\">\n",
       "  <thead>\n",
       "    <tr style=\"text-align: right;\">\n",
       "      <th></th>\n",
       "      <th>DATA VALUE</th>\n",
       "    </tr>\n",
       "    <tr>\n",
       "      <th>YEAR/MONTH/DAY</th>\n",
       "      <th></th>\n",
       "    </tr>\n",
       "  </thead>\n",
       "  <tbody>\n",
       "    <tr>\n",
       "      <th>1840-05-01</th>\n",
       "      <td>64</td>\n",
       "    </tr>\n",
       "    <tr>\n",
       "      <th>1840-05-02</th>\n",
       "      <td>0</td>\n",
       "    </tr>\n",
       "    <tr>\n",
       "      <th>1840-05-03</th>\n",
       "      <td>99</td>\n",
       "    </tr>\n",
       "    <tr>\n",
       "      <th>1840-05-04</th>\n",
       "      <td>127</td>\n",
       "    </tr>\n",
       "    <tr>\n",
       "      <th>1840-05-05</th>\n",
       "      <td>0</td>\n",
       "    </tr>\n",
       "    <tr>\n",
       "      <th>...</th>\n",
       "      <td>...</td>\n",
       "    </tr>\n",
       "    <tr>\n",
       "      <th>2017-04-24</th>\n",
       "      <td>50</td>\n",
       "    </tr>\n",
       "    <tr>\n",
       "      <th>2017-04-25</th>\n",
       "      <td>0</td>\n",
       "    </tr>\n",
       "    <tr>\n",
       "      <th>2017-04-26</th>\n",
       "      <td>0</td>\n",
       "    </tr>\n",
       "    <tr>\n",
       "      <th>2017-04-27</th>\n",
       "      <td>56</td>\n",
       "    </tr>\n",
       "    <tr>\n",
       "      <th>2017-04-28</th>\n",
       "      <td>0</td>\n",
       "    </tr>\n",
       "  </tbody>\n",
       "</table>\n",
       "<p>60767 rows x 1 columns</p>\n",
       "</div>"
      ],
      "text/plain": [
       "                DATA VALUE\n",
       "YEAR/MONTH/DAY            \n",
       "1840-05-01              64\n",
       "1840-05-02               0\n",
       "1840-05-03              99\n",
       "1840-05-04             127\n",
       "1840-05-05               0\n",
       "...                    ...\n",
       "2017-04-24              50\n",
       "2017-04-25               0\n",
       "2017-04-26               0\n",
       "2017-04-27              56\n",
       "2017-04-28               0\n",
       "\n",
       "[60767 rows x 1 columns]"
      ]
     },
     "execution_count": 245,
     "metadata": {},
     "output_type": "execute_result"
    }
   ],
   "source": [
    "time_series = df_filter_vector(\"CA006158350\", \"PRCP\", local=True)\n",
    "time_series"
   ]
  },
  {
   "cell_type": "code",
   "execution_count": 246,
   "id": "5767505f",
   "metadata": {},
   "outputs": [
    {
     "data": {
      "text/plain": [
       "[<matplotlib.lines.Line2D at 0x7f02566601d0>]"
      ]
     },
     "execution_count": 246,
     "metadata": {},
     "output_type": "execute_result"
    },
    {
     "data": {
      "image/png": "[encoded data removed]",
      "text/plain": [
       "<Figure size 432x288 with 1 Axes>"
      ]
     },
     "metadata": {
      "needs_background": "light"
     },
     "output_type": "display_data"
    }
   ],
   "source": [
    "plt.plot(time_series)"
   ]
  },
  {
   "cell_type": "markdown",
   "id": "edc95bba",
   "metadata": {},
   "source": [
    "## Modeling with NumS\n",
    "### Linear Regression"
   ]
  },
  {
   "cell_type": "code",
   "execution_count": 144,
   "id": "36441fb2",
   "metadata": {},
   "outputs": [],
   "source": [
    "from nums.experimental import nums_modin\n",
    "\n",
    "def create_design_matrix(_id, element, years, convert_nps=True, local=False):\n",
    "    df_design = pd.DataFrame(columns=pd.date_range(start=\"2020-01-01\", end=\"2020-12-31\").strftime('%m-%d'))\n",
    "    station_name = stations.loc[stations['ID'] == _id][\"NAME\"].item()\n",
    "    \n",
    "    for year in tqdm(years):\n",
    "        if local:\n",
    "            df = dfs[year]\n",
    "        else:\n",
    "            try:\n",
    "                df = data_loader(year)\n",
    "            except ClientError:\n",
    "                tqdm.write(str(year) + \".csv doesn't exist on remote, addition to design matrix is skipped.\")\n",
    "                continue\n",
    "            \n",
    "        df = df_filter(df, _id, element)\n",
    "        if df.empty:\n",
    "            tqdm.write(element + \" data on \" + str(year) + \" for \" + station_name + \" with id: \" + _id + \" is empty. Addition to design matrix is skipped.\")\n",
    "            continue\n",
    "        df.index = df.index.strftime('%m-%d')\n",
    "        df.columns = [year]\n",
    "        df = df.T\n",
    "        df_design = df_design.append(df)\n",
    "\n",
    "\n",
    "    df_design.index.name = None\n",
    "    if convert_nps:\n",
    "        #return nums_modin.from_modin(df_design.astype(int)) \n",
    "        \"\"\"\n",
    "        TODO: Bug? Fails at:\n",
    "        ----> 1 nums_modin.from_modin(design_matrix.astype(np.int64))\n",
    "\n",
    "        ~/external/nums/nums/experimental/nums_modin.py in from_modin(df)\n",
    "             60         if type(frame.dtypes.dtype) == np.dtype:\n",
    "             61             continue\n",
    "        ---> 62         assert dt == frame.dtypes\n",
    "             63     dtype = np.__getattribute__(str(dtype))\n",
    "             64 \n",
    "\n",
    "        AssertionError: \n",
    "        \"\"\"\n",
    "        return nps.array(df_design.to_numpy().astype(np.double))\n",
    "    return df_design"
   ]
  },
  {
   "cell_type": "code",
   "execution_count": 145,
   "id": "092749f5",
   "metadata": {
    "scrolled": false
   },
   "outputs": [
    {
     "data": {
      "application/vnd.jupyter.widget-view+json": {
       "model_id": "6e65dfa2f8bc473c802cf2f2dba328b7",
       "version_major": 2,
       "version_minor": 0
      },
      "text/plain": [
       "  0%|          | 0/259 [00:00<?, ?it/s]"
      ]
     },
     "metadata": {},
     "output_type": "display_data"
    },
    {
     "name": "stdout",
     "output_type": "stream",
     "text": [
      "TMAX data on 1763 for PRAHA-KLEMENTINUM with id: EZE00100082 is empty. Addition to design matrix is skipped.\n",
      "TMAX data on 1764 for PRAHA-KLEMENTINUM with id: EZE00100082 is empty. Addition to design matrix is skipped.\n",
      "TMAX data on 1765 for PRAHA-KLEMENTINUM with id: EZE00100082 is empty. Addition to design matrix is skipped.\n",
      "TMAX data on 1766 for PRAHA-KLEMENTINUM with id: EZE00100082 is empty. Addition to design matrix is skipped.\n",
      "TMAX data on 1767 for PRAHA-KLEMENTINUM with id: EZE00100082 is empty. Addition to design matrix is skipped.\n",
      "TMAX data on 1768 for PRAHA-KLEMENTINUM with id: EZE00100082 is empty. Addition to design matrix is skipped.\n",
      "TMAX data on 1769 for PRAHA-KLEMENTINUM with id: EZE00100082 is empty. Addition to design matrix is skipped.\n",
      "TMAX data on 1770 for PRAHA-KLEMENTINUM with id: EZE00100082 is empty. Addition to design matrix is skipped.\n",
      "TMAX data on 1771 for PRAHA-KLEMENTINUM with id: EZE00100082 is empty. Addition to design matrix is skipped.\n",
      "TMAX data on 1772 for PRAHA-KLEMENTINUM with id: EZE00100082 is empty. Addition to design matrix is skipped.\n",
      "TMAX data on 1773 for PRAHA-KLEMENTINUM with id: EZE00100082 is empty. Addition to design matrix is skipped.\n",
      "TMAX data on 1774 for PRAHA-KLEMENTINUM with id: EZE00100082 is empty. Addition to design matrix is skipped.\n"
     ]
    },
    {
     "name": "stderr",
     "output_type": "stream",
     "text": [
      "UserWarning: `DataFrame.append` for empty DataFrame defaulting to pandas implementation.\n",
      "UserWarning: Due to https://github.com/pandas-dev/pandas/issues/35092, Pandas ignores sort=False; Modin correctly does not sort.\n"
     ]
    },
    {
     "name": "stdout",
     "output_type": "stream",
     "text": [
      "TMAX data on 2006 for PRAHA-KLEMENTINUM with id: EZE00100082 is empty. Addition to design matrix is skipped.\n",
      "TMAX data on 2007 for PRAHA-KLEMENTINUM with id: EZE00100082 is empty. Addition to design matrix is skipped.\n",
      "TMAX data on 2008 for PRAHA-KLEMENTINUM with id: EZE00100082 is empty. Addition to design matrix is skipped.\n",
      "TMAX data on 2009 for PRAHA-KLEMENTINUM with id: EZE00100082 is empty. Addition to design matrix is skipped.\n",
      "TMAX data on 2010 for PRAHA-KLEMENTINUM with id: EZE00100082 is empty. Addition to design matrix is skipped.\n",
      "TMAX data on 2011 for PRAHA-KLEMENTINUM with id: EZE00100082 is empty. Addition to design matrix is skipped.\n",
      "TMAX data on 2012 for PRAHA-KLEMENTINUM with id: EZE00100082 is empty. Addition to design matrix is skipped.\n",
      "TMAX data on 2013 for PRAHA-KLEMENTINUM with id: EZE00100082 is empty. Addition to design matrix is skipped.\n",
      "TMAX data on 2014 for PRAHA-KLEMENTINUM with id: EZE00100082 is empty. Addition to design matrix is skipped.\n",
      "TMAX data on 2015 for PRAHA-KLEMENTINUM with id: EZE00100082 is empty. Addition to design matrix is skipped.\n",
      "TMAX data on 2016 for PRAHA-KLEMENTINUM with id: EZE00100082 is empty. Addition to design matrix is skipped.\n",
      "TMAX data on 2017 for PRAHA-KLEMENTINUM with id: EZE00100082 is empty. Addition to design matrix is skipped.\n",
      "TMAX data on 2018 for PRAHA-KLEMENTINUM with id: EZE00100082 is empty. Addition to design matrix is skipped.\n",
      "TMAX data on 2019 for PRAHA-KLEMENTINUM with id: EZE00100082 is empty. Addition to design matrix is skipped.\n",
      "TMAX data on 2020 for PRAHA-KLEMENTINUM with id: EZE00100082 is empty. Addition to design matrix is skipped.\n",
      "TMAX data on 2021 for PRAHA-KLEMENTINUM with id: EZE00100082 is empty. Addition to design matrix is skipped.\n",
      "Using driver node ip as head node.\n",
      "head node 10.0.0.4\n",
      "total cpus 32.0\n",
      "device_grid (0, 0) 0=node:10.0.0.4/cpu:1\n"
     ]
    }
   ],
   "source": [
    "#Test to see if design matrix works\n",
    "design_matrix = create_design_matrix('EZE00100082', 'TMAX', years, local=True)"
   ]
  },
  {
   "cell_type": "code",
   "execution_count": 146,
   "id": "35f8d8cc",
   "metadata": {},
   "outputs": [],
   "source": [
    "np.save(\"test.npy\", design_matrix.get())"
   ]
  },
  {
   "cell_type": "code",
   "execution_count": 147,
   "id": "66f9adb5",
   "metadata": {},
   "outputs": [],
   "source": [
    "design_matrix = nps.array(np.load(\"test.npy\"))"
   ]
  },
  {
   "cell_type": "code",
   "execution_count": 150,
   "id": "7a018ae1",
   "metadata": {},
   "outputs": [
    {
     "name": "stderr",
     "output_type": "stream",
     "text": [
      "RuntimeWarning: Operation nan_to_num not implemented, falling back to NumPy. If this is too slow or failing, please open an issue on GitHub.\n"
     ]
    }
   ],
   "source": [
    "A = nps.nan_to_num(design_matrix)\n",
    "y = nps.arange(1775, design_matrix.shape[0] + 1775, 1)"
   ]
  },
  {
   "cell_type": "markdown",
   "id": "a20e21b3",
   "metadata": {},
   "source": [
    "test modeling with sklearn"
   ]
  },
  {
   "cell_type": "code",
   "execution_count": 151,
   "id": "30617850",
   "metadata": {},
   "outputs": [],
   "source": [
    "from sklearn.linear_model import LinearRegression\n",
    "model = LinearRegression(fit_intercept=False)\n",
    "model.fit(A.get(), y.get())\n",
    "sklearn_coef = model.coef_"
   ]
  },
  {
   "cell_type": "code",
   "execution_count": 152,
   "id": "a432e5da",
   "metadata": {},
   "outputs": [
    {
     "data": {
      "text/plain": [
       "(366,)"
      ]
     },
     "execution_count": 152,
     "metadata": {},
     "output_type": "execute_result"
    }
   ],
   "source": [
    "result1, result2, result3, result4 = np.linalg.lstsq(A.get(), y.get(), rcond=None)\n",
    "result1.shape"
   ]
  },
  {
   "cell_type": "code",
   "execution_count": 153,
   "id": "f0984652",
   "metadata": {},
   "outputs": [],
   "source": [
    "from nums.models.glms import LinearRegression"
   ]
  },
  {
   "cell_type": "code",
   "execution_count": 154,
   "id": "972eeaae",
   "metadata": {},
   "outputs": [
    {
     "data": {
      "text/plain": [
       "nums.models.glms.LinearRegression"
      ]
     },
     "execution_count": 154,
     "metadata": {},
     "output_type": "execute_result"
    }
   ],
   "source": [
    "LinearRegression"
   ]
  },
  {
   "cell_type": "code",
   "execution_count": 155,
   "id": "51599b01",
   "metadata": {},
   "outputs": [],
   "source": [
    "model = LinearRegression()\n",
    "model.fit(A, y)"
   ]
  },
  {
   "cell_type": "code",
   "execution_count": 158,
   "id": "b1d78d21",
   "metadata": {},
   "outputs": [],
   "source": [
    "model._beta.get();"
   ]
  },
  {
   "cell_type": "code",
   "execution_count": 157,
   "id": "493db37f",
   "metadata": {},
   "outputs": [
    {
     "data": {
      "text/plain": [
       "[<matplotlib.lines.Line2D at 0x7f025cddd550>]"
      ]
     },
     "execution_count": 157,
     "metadata": {},
     "output_type": "execute_result"
    },
    {
     "data": {
      "image/png": "[encoded data removed]",
      "text/plain": [
       "<Figure size 432x288 with 1 Axes>"
      ]
     },
     "metadata": {
      "needs_background": "light"
     },
     "output_type": "display_data"
    }
   ],
   "source": [
    "plt.plot(sklearn_coef)"
   ]
  },
  {
   "cell_type": "code",
   "execution_count": null,
   "id": "eb881ab7",
   "metadata": {},
   "outputs": [],
   "source": [
    "model.predict(design_matrix[0]).get()"
   ]
  },
  {
   "cell_type": "code",
   "execution_count": null,
   "id": "6301bd1a",
   "metadata": {},
   "outputs": [],
   "source": [
    "block_shape = design_matrix.T.block_shape\n",
    "shape = design_matrix.T.shape\n",
    "R_shape = (shape[1], shape[1])\n",
    "R_block_shape = (block_shape[1], block_shape[1])"
   ]
  },
  {
   "cell_type": "markdown",
   "id": "92c2503b",
   "metadata": {},
   "source": [
    "### Time series analysis"
   ]
  },
  {
   "cell_type": "code",
   "execution_count": 176,
   "id": "8add4fe4",
   "metadata": {},
   "outputs": [
    {
     "data": {
      "text/plain": [
       "['PRCP', 'SNOW', 'SNWD', 'TMAX', 'TMIN']"
      ]
     },
     "execution_count": 176,
     "metadata": {},
     "output_type": "execute_result"
    }
   ],
   "source": [
    "elements"
   ]
  },
  {
   "cell_type": "code",
   "execution_count": 183,
   "id": "6fd75544",
   "metadata": {},
   "outputs": [
    {
     "data": {
      "text/html": [
       "<div>\n",
       "<style scoped>\n",
       "    .dataframe tbody tr th:only-of-type {\n",
       "        vertical-align: middle;\n",
       "    }\n",
       "\n",
       "    .dataframe tbody tr th {\n",
       "        vertical-align: top;\n",
       "    }\n",
       "\n",
       "    .dataframe thead th {\n",
       "        text-align: right;\n",
       "    }\n",
       "</style>\n",
       "<table border=\"1\" class=\"dataframe\">\n",
       "  <thead>\n",
       "    <tr style=\"text-align: right;\">\n",
       "      <th></th>\n",
       "      <th>DATA VALUE</th>\n",
       "    </tr>\n",
       "    <tr>\n",
       "      <th>YEAR/MONTH/DAY</th>\n",
       "      <th></th>\n",
       "    </tr>\n",
       "  </thead>\n",
       "  <tbody>\n",
       "    <tr>\n",
       "      <th>2000-01-01</th>\n",
       "      <td>0</td>\n",
       "    </tr>\n",
       "    <tr>\n",
       "      <th>2000-01-02</th>\n",
       "      <td>18</td>\n",
       "    </tr>\n",
       "    <tr>\n",
       "      <th>2000-01-03</th>\n",
       "      <td>46</td>\n",
       "    </tr>\n",
       "    <tr>\n",
       "      <th>2000-01-04</th>\n",
       "      <td>0</td>\n",
       "    </tr>\n",
       "    <tr>\n",
       "      <th>2000-01-05</th>\n",
       "      <td>0</td>\n",
       "    </tr>\n",
       "    <tr>\n",
       "      <th>...</th>\n",
       "      <td>...</td>\n",
       "    </tr>\n",
       "    <tr>\n",
       "      <th>2000-12-27</th>\n",
       "      <td>0</td>\n",
       "    </tr>\n",
       "    <tr>\n",
       "      <th>2000-12-28</th>\n",
       "      <td>0</td>\n",
       "    </tr>\n",
       "    <tr>\n",
       "      <th>2000-12-29</th>\n",
       "      <td>38</td>\n",
       "    </tr>\n",
       "    <tr>\n",
       "      <th>2000-12-30</th>\n",
       "      <td>58</td>\n",
       "    </tr>\n",
       "    <tr>\n",
       "      <th>2000-12-31</th>\n",
       "      <td>0</td>\n",
       "    </tr>\n",
       "  </tbody>\n",
       "</table>\n",
       "<p>366 rows x 1 columns</p>\n",
       "</div>"
      ],
      "text/plain": [
       "                DATA VALUE\n",
       "YEAR/MONTH/DAY            \n",
       "2000-01-01               0\n",
       "2000-01-02              18\n",
       "2000-01-03              46\n",
       "2000-01-04               0\n",
       "2000-01-05               0\n",
       "...                    ...\n",
       "2000-12-27               0\n",
       "2000-12-28               0\n",
       "2000-12-29              38\n",
       "2000-12-30              58\n",
       "2000-12-31               0\n",
       "\n",
       "[366 rows x 1 columns]"
      ]
     },
     "execution_count": 183,
     "metadata": {},
     "output_type": "execute_result"
    }
   ],
   "source": [
    "df_filter(dfs[2000], \"CA006158350\", \"PRCP\")"
   ]
  },
  {
   "cell_type": "code",
   "execution_count": 190,
   "id": "01f22e44",
   "metadata": {},
   "outputs": [
    {
     "data": {
      "text/plain": [
       "['PRCP', 'SNOW', 'SNWD', 'TMAX', 'TMIN']"
      ]
     },
     "execution_count": 190,
     "metadata": {},
     "output_type": "execute_result"
    }
   ],
   "source": [
    "elements"
   ]
  },
  {
   "cell_type": "code",
   "execution_count": null,
   "id": "0f1e7ef0",
   "metadata": {},
   "outputs": [],
   "source": [
    "def create_time_series_design_matrix(_id, element, features):\n",
    "    df = pd.DataFrame(columns=features)\n",
    "    for year in tqdm(years):\n",
    "        "
   ]
  },
  {
   "cell_type": "code",
   "execution_count": 196,
   "id": "a2075fff",
   "metadata": {
    "scrolled": false
   },
   "outputs": [
    {
     "name": "stderr",
     "output_type": "stream",
     "text": [
      "UserWarning: Distributing <class 'NoneType'> object. This may take some time.\n",
      "UserWarning: Distributing <class 'dict'> object. This may take some time.\n"
     ]
    }
   ],
   "source": [
    "df = pd.DataFrame(columns=elements)\n",
    "#for year in tqdm(years):\n",
    "year = 2000\n",
    "for feature in ['PRCP', 'SNOW', 'SNWD', 'TMAX', 'TMIN']:\n",
    "    df[feature] = df_filter(dfs[year], \"CA006158350\", feature)"
   ]
  },
  {
   "cell_type": "code",
   "execution_count": 203,
   "id": "8f6b9233",
   "metadata": {},
   "outputs": [],
   "source": [
    "A = nps.array(df[['PRCP', 'TMAX', 'TMIN']].to_numpy())"
   ]
  },
  {
   "cell_type": "code",
   "execution_count": 204,
   "id": "995e2def",
   "metadata": {},
   "outputs": [],
   "source": [
    "y = nps.array(df['SNOW'].to_numpy())"
   ]
  },
  {
   "cell_type": "code",
   "execution_count": 205,
   "id": "3ac38f60",
   "metadata": {},
   "outputs": [],
   "source": [
    "from nums.models.glms import LogisticRegression"
   ]
  },
  {
   "cell_type": "code",
   "execution_count": 206,
   "id": "ecbb1d57",
   "metadata": {},
   "outputs": [],
   "source": [
    "model = model.fit(A, y)"
   ]
  },
  {
   "cell_type": "code",
   "execution_count": 208,
   "id": "49c0f728",
   "metadata": {},
   "outputs": [
    {
     "ename": "AttributeError",
     "evalue": "'NoneType' object has no attribute 'fit'",
     "output_type": "error",
     "traceback": [
      "\u001b[0;31m---------------------------------------------------------------------------\u001b[0m",
      "\u001b[0;31mAttributeError\u001b[0m                            Traceback (most recent call last)",
      "\u001b[0;32m/tmp/ipykernel_3565/462971672.py\u001b[0m in \u001b[0;36m<module>\u001b[0;34m\u001b[0m\n\u001b[0;32m----> 1\u001b[0;31m \u001b[0mmodel\u001b[0m\u001b[0;34m.\u001b[0m\u001b[0mfit\u001b[0m\u001b[0;34m\u001b[0m\u001b[0;34m\u001b[0m\u001b[0m\n\u001b[0m",
      "\u001b[0;31mAttributeError\u001b[0m: 'NoneType' object has no attribute 'fit'"
     ]
    }
   ],
   "source": []
  },
  {
   "cell_type": "code",
   "execution_count": null,
   "id": "7818945a",
   "metadata": {},
   "outputs": [],
   "source": [
    "%%time\n",
    "tmin = climate_2020[climate_2020[\"ELEMENT\"] == \"TMIN\"]\n",
    "tmax = climate_2020[climate_2020[\"ELEMENT\"] == \"TMAX\"]"
   ]
  },
  {
   "cell_type": "code",
   "execution_count": null,
   "id": "de6167a4",
   "metadata": {},
   "outputs": [],
   "source": [
    "precipication[\"DATA VALUE\"].plot()"
   ]
  },
  {
   "cell_type": "code",
   "execution_count": null,
   "id": "2f635621",
   "metadata": {},
   "outputs": [],
   "source": [
    "snow = climate_2020[climate_2020[\"ELEMENT\"] == \"SNOW\"]\n",
    "snow_depth = climate_2020[climate_2020[\"ELEMENT\"] == \"SNWD\"]"
   ]
  },
  {
   "cell_type": "code",
   "execution_count": null,
   "id": "e2ba2f05",
   "metadata": {},
   "outputs": [],
   "source": [
    "snow[\"DATA VALUE\"].plot()"
   ]
  },
  {
   "cell_type": "code",
   "execution_count": null,
   "id": "abeeeef7",
   "metadata": {},
   "outputs": [],
   "source": [
    "snow = climate_2020[climate_2020[\"ELEMENT\"] == \"SNOW\"]"
   ]
  },
  {
   "cell_type": "code",
   "execution_count": null,
   "id": "fca2a439",
   "metadata": {},
   "outputs": [],
   "source": [
    "climate_2020[\"country_code\"] = climate_2020[\"ID\"].str.slice(stop=2)"
   ]
  },
  {
   "cell_type": "code",
   "execution_count": null,
   "id": "1e1fe878",
   "metadata": {},
   "outputs": [],
   "source": [
    "climate_2020"
   ]
  },
  {
   "cell_type": "code",
   "execution_count": null,
   "id": "2e64a3a2",
   "metadata": {},
   "outputs": [],
   "source": [
    "climate_2020[climate_2020[\"country_code\"] == \"US\"]"
   ]
  },
  {
   "cell_type": "code",
   "execution_count": null,
   "id": "9855daae",
   "metadata": {},
   "outputs": [],
   "source": [
    "climate_2020[climate_2020[\"ID\"] == \"US10adam002\"]"
   ]
  },
  {
   "cell_type": "code",
   "execution_count": null,
   "id": "2be5f111",
   "metadata": {},
   "outputs": [],
   "source": [
    "climate_2020[climate_2020[\"ID\"] == \"US10adam002\"].plot(x = \"YEAR/MONTH/DAY\", y=\"DATA VALUE\")\n",
    "climate_2020[climate_2020[\"ID\"] == \"USW00096408\"].plot(x = \"YEAR/MONTH/DAY\", y=\"DATA VALUE\")\n",
    "climate_2020[climate_2020[\"ID\"] == \"US10adam002\"].plot(x = \"YEAR/MONTH/DAY\", y=\"DATA VALUE\")"
   ]
  },
  {
   "cell_type": "markdown",
   "id": "b58a2d00",
   "metadata": {},
   "source": [
    "When done, run this so you can properly shutdown Ray"
   ]
  },
  {
   "cell_type": "code",
   "execution_count": 247,
   "id": "1c4234e6",
   "metadata": {},
   "outputs": [],
   "source": [
    "ray.shutdown()"
   ]
  },
  {
   "cell_type": "code",
   "execution_count": null,
   "id": "5fdab6e0",
   "metadata": {},
   "outputs": [],
   "source": []
  }
 ],
 "metadata": {
  "kernelspec": {
   "display_name": "Python 3 (ipykernel)",
   "language": "python",
   "name": "python3"
  },
  "language_info": {
   "codemirror_mode": {
    "name": "ipython",
    "version": 3
   },
   "file_extension": ".py",
   "mimetype": "text/x-python",
   "name": "python",
   "nbconvert_exporter": "python",
   "pygments_lexer": "ipython3",
   "version": "3.7.10"
  }
 },
 "nbformat": 4,
 "nbformat_minor": 5
}
